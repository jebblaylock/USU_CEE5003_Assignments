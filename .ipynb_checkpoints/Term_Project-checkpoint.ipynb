{
 "cells": [
  {
   "cell_type": "markdown",
   "id": "75936ebe-7bcc-49f1-889e-34353d323678",
   "metadata": {},
   "source": [
    "***Notes:***\n",
    "- Supervised Classification\n",
    "- Use Sentinel 2 because of available bands and high resolution\n",
    "- Calculate acreage! Make graph showing the decline of phragmites over the years.\n",
    "\n",
    "Things I've learned:\n",
    "- I can't do the entirety of Utah Lake. It's too difficult to separate phragmites and cattails from agricultural fields, vegetated urban areas, and mountain vegetation. Instead, I focused on Goshen Bay because it has a large swath of wetlands.\n",
    "- I could initially ignore the above problem, but that would make calculating acreage impossible.\n",
    "- Challenge: no ground truthing.\n",
    "- I'm assuming all vegetation is either cattails or phragmites. Likely untrue, but impossible to check without going there in person.\n",
    "- It's one thing to classify vegetation over a large area, but you can't really differentiate between vegetation types at that scale.\n",
    "- There happened to be high water in September 2019.\n",
    "- Run regression analysis on 2017 imagery, then apply the best model to 2019 and 2021. All classifications gave good accuracy, but Random Forest was the best.\n",
    "\n",
    "Figure out:\n",
    "- How to calculate acreage of \"phragmites\" (or at least the healthy plants) in my AOI"
   ]
  },
  {
   "cell_type": "markdown",
   "id": "7db62543-1912-43b4-bae2-e19b1a2e5e44",
   "metadata": {
    "tags": []
   },
   "source": [
    "## CEE 5003 Term Project - Spring 2023\n",
    "### Tracking Phragmites around Utah Lake\n",
    "### Justin Blaylock"
   ]
  },
  {
   "cell_type": "markdown",
   "id": "b4627040-ee33-4387-8fef-c3e316ec18a2",
   "metadata": {},
   "source": [
    "Run the following code in Terminal:"
   ]
  },
  {
   "cell_type": "raw",
   "id": "def46cea-faf3-4ce0-a78f-0222ec5ee602",
   "metadata": {},
   "source": [
    "pip install -U geemap\n",
    "pip install eemont\n",
    "pip install geetools"
   ]
  },
  {
   "cell_type": "markdown",
   "id": "b1204b71-c7ed-41fe-b53d-0d5d3f5a6a06",
   "metadata": {
    "jp-MarkdownHeadingCollapsed": true,
    "tags": []
   },
   "source": [
    "### Obtain Imagery for 2017, 2019, and 2021"
   ]
  },
  {
   "cell_type": "code",
   "execution_count": 2,
   "id": "1e55bbbd-1740-4c24-8630-ccc38e4a8b69",
   "metadata": {},
   "outputs": [
    {
     "data": {
      "application/vnd.jupyter.widget-view+json": {
       "model_id": "f52c3120c9344958ad322881296a380c",
       "version_major": 2,
       "version_minor": 0
      },
      "text/plain": [
       "Map(center=[20, 0], controls=(WidgetControl(options=['position', 'transparent_bg'], widget=HBox(children=(Togg…"
      ]
     },
     "metadata": {},
     "output_type": "display_data"
    }
   ],
   "source": [
    "import ee\n",
    "import geemap\n",
    "import geemap.colormaps as cm\n",
    "\n",
    "ee.Initialize()\n",
    "Map = geemap.Map() \n",
    "Map"
   ]
  },
  {
   "cell_type": "code",
   "execution_count": 3,
   "id": "14d77892-e0c1-4e6d-86c3-95c73a7b77ef",
   "metadata": {},
   "outputs": [
    {
     "data": {
      "application/vnd.jupyter.widget-view+json": {
       "model_id": "f52c3120c9344958ad322881296a380c",
       "version_major": 2,
       "version_minor": 0
      },
      "text/plain": [
       "Map(center=[20, 0], controls=(WidgetControl(options=['position', 'transparent_bg'], widget=HBox(children=(Togg…"
      ]
     },
     "metadata": {},
     "output_type": "display_data"
    }
   ],
   "source": [
    "# Define a polygon around Utah Lake\n",
    "# AOI = ee.Geometry.Polygon([\n",
    "#   [-111.952625, 40.375375],\n",
    "#   [-111.6597, 40.375375],\n",
    "#   [-111.7899, 40.005484],\n",
    "#   [-111.952625, 40.005484],\n",
    "# ])\n",
    "\n",
    "# Define a polygon around Goshen Bay\n",
    "AOI = ee.Geometry.Polygon([\n",
    "  [-111.926, 40.050],\n",
    "  [-111.875, 40.050],\n",
    "  [-111.875, 40.005484],\n",
    "  [-111.926, 40.005484],\n",
    "])\n",
    "\n",
    "aoi = ee.Feature(AOI);\n",
    "Map.addLayer(aoi, name='AOI')\n",
    "Map"
   ]
  },
  {
   "cell_type": "code",
   "execution_count": 4,
   "id": "6a47d9f3-b5d1-4fec-a861-eefbca0ed60e",
   "metadata": {},
   "outputs": [],
   "source": [
    "s2 = ee.ImageCollection('COPERNICUS/S2')\n",
    "\n",
    "# Get 2017 imagery\n",
    "image_s2_2017 = ee.Image(s2\n",
    "\n",
    "#    // Filter to get only images in the specified range.This range can be larger\n",
    "    .filterDate('2017-09-12', '2017-09-18')  # choose mid-September\n",
    "\n",
    "#    // Filter to get only images at the location of the point.This can be a polygon too.\n",
    "    .filterBounds(AOI)\n",
    "\n",
    "#    // Sort the collection by a metadata property.\n",
    "    .sort('CLOUD_COVER_LAND')\n",
    "\n",
    "#    // Get the first image out of this collection.\n",
    "    .first()) #so the less cloudy image\n",
    "\n",
    "# Clip the image to your AOI\n",
    "s2_2017 = image_s2_2017.clip(AOI)"
   ]
  },
  {
   "cell_type": "code",
   "execution_count": 5,
   "id": "11208a7d-d3d1-4025-9809-d49f9f132d88",
   "metadata": {},
   "outputs": [
    {
     "name": "stdout",
     "output_type": "stream",
     "text": [
      "Date of s2_2017: 2017-09-13\n"
     ]
    }
   ],
   "source": [
    "# Print the date of image_s2_2017\n",
    "print('Date of s2_2017:', s2_2017.date().format('YYYY-MM-dd').getInfo())"
   ]
  },
  {
   "cell_type": "code",
   "execution_count": 6,
   "id": "91d6bd70-84b7-407e-a7a4-f54ae2ede6da",
   "metadata": {},
   "outputs": [],
   "source": [
    "# Get 2019 imagery\n",
    "image_s2_2019 = ee.Image(s2\n",
    "\n",
    "#    // Filter to get only images in the specified range.This range can be larger\n",
    "    .filterDate('2019-09-12', '2019-09-18')  # choose mid-September\n",
    "\n",
    "#    // Filter to get only images at the location of the point.This can be a polygon too.\n",
    "    .filterBounds(AOI)\n",
    "\n",
    "#    // Sort the collection by a metadata property.\n",
    "    .sort('CLOUD_COVER_LAND')\n",
    "\n",
    "#    // Get the first image out of this collection.\n",
    "    .first()) #so the less cloudy image\n",
    "\n",
    "# Clip the image to your AOI\n",
    "s2_2019 = image_s2_2019.clip(AOI)"
   ]
  },
  {
   "cell_type": "code",
   "execution_count": 7,
   "id": "b661336e-fa4e-421e-bffb-fe6977e0753c",
   "metadata": {},
   "outputs": [
    {
     "name": "stdout",
     "output_type": "stream",
     "text": [
      "Date of s2_2019: 2019-09-13\n"
     ]
    }
   ],
   "source": [
    "# Print the date of image_s2_2019\n",
    "print('Date of s2_2019:', s2_2019.date().format('YYYY-MM-dd').getInfo())"
   ]
  },
  {
   "cell_type": "code",
   "execution_count": 8,
   "id": "9f134f75-dee4-4fbd-aebb-59bfc314a48f",
   "metadata": {
    "tags": []
   },
   "outputs": [],
   "source": [
    "# Get 2021 imagery\n",
    "image_s2_2021 = ee.Image(s2\n",
    "\n",
    "#    // Filter to get only images in the specified range.This range can be larger\n",
    "    .filterDate('2021-09-12', '2021-09-18')  # choose mid-September\n",
    "\n",
    "#    // Filter to get only images at the location of the point.This can be a polygon too.\n",
    "    .filterBounds(AOI)\n",
    "\n",
    "#    // Sort the collection by a metadata property.\n",
    "    .sort('CLOUD_COVER_LAND')\n",
    "\n",
    "#    // Get the first image out of this collection.\n",
    "    .first()) #so the less cloudy image\n",
    "\n",
    "# Clip the image to your AOI\n",
    "s2_2021 = image_s2_2021.clip(AOI)"
   ]
  },
  {
   "cell_type": "code",
   "execution_count": 9,
   "id": "512e8433-3a51-40f9-a1af-828c3dfcfc2e",
   "metadata": {},
   "outputs": [
    {
     "name": "stdout",
     "output_type": "stream",
     "text": [
      "Date of s2_2021: 2021-09-12\n"
     ]
    }
   ],
   "source": [
    "# Print the date of image_s2_2021\n",
    "print('Date of s2_2021:', s2_2021.date().format('YYYY-MM-dd').getInfo())"
   ]
  },
  {
   "cell_type": "code",
   "execution_count": 10,
   "id": "a816ac43-8c9b-4f49-982d-dd836c33c13e",
   "metadata": {},
   "outputs": [],
   "source": [
    "s2_2017 = s2_2017.multiply(0.0001)"
   ]
  },
  {
   "cell_type": "code",
   "execution_count": 11,
   "id": "9308b1e4-4df8-4021-9316-d4aef8bbd4e5",
   "metadata": {},
   "outputs": [],
   "source": [
    "s2_2019 = s2_2019.multiply(0.0001)"
   ]
  },
  {
   "cell_type": "code",
   "execution_count": 12,
   "id": "a9e651d6-c6da-4ffd-8624-d0b741537bc6",
   "metadata": {},
   "outputs": [],
   "source": [
    "s2_2021 = s2_2021.multiply(0.0001)"
   ]
  },
  {
   "cell_type": "code",
   "execution_count": 13,
   "id": "e4908028-e0be-47a4-a913-aa507ef3d058",
   "metadata": {},
   "outputs": [
    {
     "data": {
      "application/vnd.jupyter.widget-view+json": {
       "model_id": "f52c3120c9344958ad322881296a380c",
       "version_major": 2,
       "version_minor": 0
      },
      "text/plain": [
       "Map(center=[40.029, -111.901], controls=(WidgetControl(options=['position', 'transparent_bg'], widget=HBox(chi…"
      ]
     },
     "metadata": {},
     "output_type": "display_data"
    }
   ],
   "source": [
    "# // Center the map and display the image.\n",
    "Map.setCenter(-111.901, 40.029, 13);\n",
    "Map.addLayer(s2_2017, {'bands': ['B8', 'B4', 'B3'],'min': 0, 'max': 0.5}, name='Imagery 2017')\n",
    "Map.addLayer(s2_2019, {'bands': ['B8', 'B4', 'B3'],'min': 0, 'max': 0.5}, name='Imagery 2019')\n",
    "Map.addLayer(s2_2021, {'bands': ['B8', 'B4', 'B3'],'min': 0, 'max': 0.5}, name='Imagery 2021')\n",
    "Map"
   ]
  },
  {
   "cell_type": "markdown",
   "id": "1fa5cf35-2f5f-4e6c-90eb-b56736361c3f",
   "metadata": {
    "tags": []
   },
   "source": [
    "### Make Training Dataset (2017)"
   ]
  },
  {
   "cell_type": "markdown",
   "id": "1a6b6b58-22dd-4327-8ebd-72ee69877733",
   "metadata": {
    "tags": []
   },
   "source": [
    "##### Generate NDVI Layer"
   ]
  },
  {
   "cell_type": "code",
   "execution_count": 14,
   "id": "f8ca2a62-104a-4663-96f0-6871324b399c",
   "metadata": {},
   "outputs": [],
   "source": [
    "img_name ='NDVI 2017'\n",
    "ndvi_2017=s2_2017.normalizedDifference(['B8', 'B4'])\n",
    "\n",
    "vis_params = {\n",
    "  'min': -0.2,\n",
    "  'max': 1.0,\n",
    "  'palette': ['blue','white','brown','yellow', 'lime', 'green','navy']}\n",
    "\n",
    "# Map.addLayer(ndvi_2017,vis_params,img_name)\n",
    "\n",
    "# colors = vis_params['palette']\n",
    "# vmin = vis_params['min']\n",
    "# vmax = vis_params['max']\n",
    "\n",
    "# Map.add_colorbar_branca(colors=colors, vmin=vmin, vmax=vmax, layer_name=img_name)\n",
    "\n",
    "# Map"
   ]
  },
  {
   "cell_type": "markdown",
   "id": "ff529169-5500-4a63-a8bd-42e4dcfe6dd6",
   "metadata": {},
   "source": [
    "##### Define Known Landcover"
   ]
  },
  {
   "cell_type": "code",
   "execution_count": 15,
   "id": "8aebe5cc-ff82-42e7-919f-9421e890b557",
   "metadata": {
    "tags": []
   },
   "outputs": [],
   "source": [
    "# FOR BARE SOIL\n",
    "\n",
    "# // Create an ee.Geometry.\n",
    "polygon = ee.Geometry.Polygon([\n",
    "                   [-111.904,40.013],\n",
    "                   [-111.881,40.013],\n",
    "                   [-111.881,40.010],\n",
    "                   [-111.904,40.010]]);\n",
    "\n",
    "# // Create a Feature from the Geometry.\n",
    "baresoil = ee.Feature(polygon, {'class': 0, 'name': 'bare soil'})"
   ]
  },
  {
   "cell_type": "code",
   "execution_count": 16,
   "id": "56fb51a8-6440-4409-bf6e-7eead5124150",
   "metadata": {
    "tags": []
   },
   "outputs": [],
   "source": [
    "# FOR WATER\n",
    "\n",
    "# // Create an ee.Geometry.\n",
    "polygon = ee.Geometry.Polygon([\n",
    "                   [-111.881,40.049],\n",
    "                   [-111.877,40.049],\n",
    "                   [-111.883,40.043]]);\n",
    "\n",
    "# // Create a Feature from the Geometry.\n",
    "water = ee.Feature(polygon, {'class': 1, 'name': 'water'});"
   ]
  },
  {
   "cell_type": "code",
   "execution_count": 17,
   "id": "25067019-da3f-438e-a14a-d7bdab0aee12",
   "metadata": {},
   "outputs": [],
   "source": [
    "# FOR PHRAGMITES\n",
    "\n",
    "# // Create an ee.Geometry.\n",
    "polygon = ee.Geometry.Polygon([\n",
    "                   [-111.9028,40.0323],\n",
    "                   [-111.8942,40.0332],\n",
    "                   [-111.8942,40.0269],\n",
    "                   [-111.9021,40.0305]]);\n",
    "\n",
    "# // Create a Feature from the Geometry.\n",
    "phragmites = ee.Feature(polygon, {'class': 2, 'name': 'phragmites'});"
   ]
  },
  {
   "cell_type": "code",
   "execution_count": 18,
   "id": "aca3895f-e6e3-453f-9d6e-6fcfc2874e54",
   "metadata": {},
   "outputs": [],
   "source": [
    "# FOR CATTAILS\n",
    "\n",
    "# // Create an ee.Geometry.\n",
    "polygon = ee.Geometry.Polygon([\n",
    "                   [-111.9117,40.0334],\n",
    "                   [-111.9076,40.0373],\n",
    "                   [-111.9017,40.0344],\n",
    "                   [-111.9067,40.0311]]);\n",
    "\n",
    "# // Create a Feature from the Geometry.\n",
    "cat = ee.Feature(polygon, {'class': 3, 'name': 'cattails'});"
   ]
  },
  {
   "cell_type": "code",
   "execution_count": 19,
   "id": "20705a25-983e-451c-a07c-332ddedac147",
   "metadata": {},
   "outputs": [],
   "source": [
    "# FOR BARE SOIL #2\n",
    "\n",
    "# // Create an ee.Geometry.\n",
    "polygon = ee.Geometry.Polygon([\n",
    "                   [-111.926,40.012],\n",
    "                   [-111.924,40.012],\n",
    "                   [-111.924,40.006],\n",
    "                   [-111.926,40.006]]);\n",
    "\n",
    "# // Create a Feature from the Geometry.\n",
    "baresoil2 = ee.Feature(polygon, {'class': 0, 'name': 'bare soil 2'});"
   ]
  },
  {
   "cell_type": "code",
   "execution_count": 20,
   "id": "3d256890-48d9-475a-93d7-0ef2c85775d9",
   "metadata": {},
   "outputs": [],
   "source": [
    "# Merge Features into a Feature Collection\n",
    "\n",
    "trainingFeatures = ee.FeatureCollection([water, baresoil, baresoil2, cat, phragmites])"
   ]
  },
  {
   "cell_type": "code",
   "execution_count": 21,
   "id": "1e3156ca-6b76-4c3c-ad24-428b0c350489",
   "metadata": {},
   "outputs": [],
   "source": [
    "# Create layer group\n",
    "polygon_layers = ee.FeatureCollection([water, baresoil, baresoil2, cat, phragmites])\n",
    "\n",
    "# Add layer group to map\n",
    "# Map.addLayer(polygon_layers, {}, 'Polygons')\n",
    "# Map"
   ]
  },
  {
   "cell_type": "code",
   "execution_count": 22,
   "id": "f10eacd0-eb32-4743-8352-ac89aa311b0c",
   "metadata": {},
   "outputs": [],
   "source": [
    "# Specify the Sentinel 2 bands to be used as predictors (i.e. the elements of p):\n",
    "\n",
    "predictionBands = ['B2', 'B3', 'B4', 'B8', 'B8A', 'B11', 'B12']"
   ]
  },
  {
   "cell_type": "code",
   "execution_count": 23,
   "id": "2f1904a7-ee88-499f-8faf-fc3362444bb5",
   "metadata": {},
   "outputs": [
    {
     "name": "stdout",
     "output_type": "stream",
     "text": [
      "{'type': 'Feature', 'geometry': {'type': 'Polygon', 'coordinates': [[[-111.881, 40.049], [-111.883, 40.043], [-111.877, 40.049], [-111.881, 40.049]]]}, 'id': '0', 'properties': {'class': 1, 'name': 'water'}}\n"
     ]
    }
   ],
   "source": [
    "# In the merged FeatureCollection, each Feature should have a property called 'class' where the classes are consecutive integers,\n",
    "# one for each class, starting at 0. Verify that this is true.\n",
    "\n",
    "print(trainingFeatures.first().getInfo())"
   ]
  },
  {
   "cell_type": "code",
   "execution_count": 24,
   "id": "65154e34-c12e-41e4-b069-7160e9dcaf9f",
   "metadata": {},
   "outputs": [],
   "source": [
    "# Create a training set T for the classifier by sampling the Sentinel 2 image with the merged features:\n",
    "\n",
    "classifierTraining = s2_2017.select(predictionBands).sampleRegions(\n",
    "      collection= trainingFeatures, \n",
    "      properties= ['class'], \n",
    "      scale= 10\n",
    "    );"
   ]
  },
  {
   "cell_type": "code",
   "execution_count": 25,
   "id": "2f893eb2-3f3d-4ee8-804b-aa62844572f0",
   "metadata": {},
   "outputs": [],
   "source": [
    "# // Randomly split the data into 60% for training, and 40% for testing\n",
    "trainingTesting = classifierTraining.randomColumn('random',111009);\n",
    "\n",
    "training = trainingTesting.filter(ee.Filter.lt('random', 0.66));\n",
    "\n",
    "testing = trainingTesting.filter(ee.Filter.gte('random', 0.66));"
   ]
  },
  {
   "cell_type": "markdown",
   "id": "1ca55d96-50b0-4ee6-9a67-a592e09576a3",
   "metadata": {},
   "source": [
    "Train a CART"
   ]
  },
  {
   "cell_type": "code",
   "execution_count": 26,
   "id": "39a861aa-92e3-4def-8409-284bb909006d",
   "metadata": {},
   "outputs": [],
   "source": [
    "# #hyperparameter to tune\n",
    "# leaf_val=1\n",
    "\n",
    "# cartclassifier = ee.Classifier.smileCart(minLeafPopulation=leaf_val).train(\n",
    "#       features= training, \n",
    "#       classProperty= 'class', \n",
    "#       inputProperties= predictionBands\n",
    "#     );"
   ]
  },
  {
   "cell_type": "code",
   "execution_count": 27,
   "id": "ce5ff6fb-7cf6-40b8-beb3-c3fc48a7f65d",
   "metadata": {},
   "outputs": [],
   "source": [
    "# # Make predictions over the input imagery (classify in this context is a misnomer):\n",
    "\n",
    "# cartClasifficationImage = s2_2017.select(predictionBands).classify(cartclassifier);\n",
    "\n",
    "# Map.addLayer(cartClasifficationImage, {'min': 0, 'max': 4,\n",
    "#                                    'palette':['794A39', 'blue','green', 'yellow', 'red']},'CART classification');\n",
    "# Map"
   ]
  },
  {
   "cell_type": "markdown",
   "id": "a6adefeb-9e42-466a-93d3-5e9effbd5c79",
   "metadata": {},
   "source": [
    "Use a Random Forest classifier"
   ]
  },
  {
   "cell_type": "code",
   "execution_count": 28,
   "id": "d13849c0-eae7-4a9d-b683-bb118121204d",
   "metadata": {},
   "outputs": [],
   "source": [
    "# hyperparameter to tune\n",
    "trees_val=13\n",
    "\n",
    "rfClassification2017 = ee.Classifier.smileRandomForest(numberOfTrees=trees_val, seed=111009).train(\n",
    "      features= training, \n",
    "      classProperty= 'class', \n",
    "      inputProperties= predictionBands\n",
    "    )"
   ]
  },
  {
   "cell_type": "code",
   "execution_count": 29,
   "id": "d1fd2ece-a9db-4106-8b8b-c7d171053d75",
   "metadata": {},
   "outputs": [
    {
     "data": {
      "application/vnd.jupyter.widget-view+json": {
       "model_id": "f52c3120c9344958ad322881296a380c",
       "version_major": 2,
       "version_minor": 0
      },
      "text/plain": [
       "Map(center=[40.029, -111.901], controls=(WidgetControl(options=['position', 'transparent_bg'], widget=HBox(chi…"
      ]
     },
     "metadata": {},
     "output_type": "display_data"
    }
   ],
   "source": [
    "# // Perform the RF regression on the Sentinel 2 image\n",
    "rfClassificationImage2017 = s2_2017.select(predictionBands).classify(rfClassification2017);\n",
    "    \n",
    "# // Visualize the RF regression\n",
    "Map.addLayer(rfClassificationImage2017,  {'min': 0, 'max': 4,\n",
    "                                   'palette':['794A39', 'blue','green', 'yellow', 'red']}, 'RF 2017');\n",
    "\n",
    "Map"
   ]
  },
  {
   "cell_type": "markdown",
   "id": "5d23714f-3de2-4fbb-918e-6b7274e938e1",
   "metadata": {},
   "source": [
    "Using Support Vector Machines"
   ]
  },
  {
   "cell_type": "code",
   "execution_count": 30,
   "id": "e1b8e481-1381-48bf-b7b9-3f47da589134",
   "metadata": {
    "tags": []
   },
   "outputs": [],
   "source": [
    "# # hyperparameter to tune\n",
    "# gamma_val =0.1\n",
    "\n",
    "# # // Create an SVM classifier with custom parameters.\n",
    "# svClassification = ee.Classifier.libsvm(svmType='C_SVC',kernelType='RBF',gamma=gamma_val).train(\n",
    "#       features= training, \n",
    "#       classProperty= 'class', \n",
    "#       inputProperties= predictionBands\n",
    "#     )"
   ]
  },
  {
   "cell_type": "code",
   "execution_count": 31,
   "id": "54024f99-637c-4a85-a70e-b66bfd65a15d",
   "metadata": {
    "tags": []
   },
   "outputs": [],
   "source": [
    "# # // Perform the RF regression on the landsat image\n",
    "# svClassificationImage = s2_2017.select(predictionBands).classify(svClassification);\n",
    "    \n",
    "# # // Visualize the RF regression\n",
    "# Map.addLayer(svClassificationImage,{'min': 0, 'max': 4,\n",
    "#                                    'palette':['794A39', 'blue','green', 'yellow', 'red']}, 'SV CLassification');\n",
    "# Map"
   ]
  },
  {
   "cell_type": "markdown",
   "id": "fd9ade74-5f46-4d66-925b-31601ce0cbbd",
   "metadata": {
    "jp-MarkdownHeadingCollapsed": true,
    "tags": []
   },
   "source": [
    "### 2017 Accuracy Assessment"
   ]
  },
  {
   "cell_type": "markdown",
   "id": "052d5ccd-2759-478f-81d2-82a8d88accc9",
   "metadata": {},
   "source": [
    "Print the confusion matrix and expand the object to inspect the matrix. The entries represent number of pixels. Items on the diagonal represent correct classification. Items off the diagonal are misclassifications, where the class in row i is classified as column j. It's also possible to get basic descriptive statistics from the confusion matrix.\n",
    "\n",
    "A confusion matrix is used here to compare two different data, one the true value and the other the predicted values. We will be using it primarily to compute overall accuracy between the model and the different machine learning results, but confusion matrices also provide explicit information about which classes were classified incorrectly; not just if pixels were classified incorrectly, but what class they were incorrectly classified as. For an example of how to use and interpret a confusion matrix for LULC remote sensing visit https://www.harrisgeospatial.com/docs/CalculatingConfusionMatrices.html and http://gsp.humboldt.edu/olm_2019/courses/GSP_216_Online/lesson6-2/metrics.html"
   ]
  },
  {
   "cell_type": "code",
   "execution_count": 32,
   "id": "e9f175c0-b48d-43a0-a9b1-204a52028de8",
   "metadata": {},
   "outputs": [],
   "source": [
    "# # // Perform the CART classification on the test set\n",
    "\n",
    "# test=testing.classify(cartclassifier)\n",
    "# # print(test.first().getInfo())\n",
    "\n",
    "# # // Get a confusion matrix representing expected accuracy.\n",
    "# testAccuracy = test.errorMatrix('class', 'classification');"
   ]
  },
  {
   "cell_type": "code",
   "execution_count": 33,
   "id": "b94f6eee-a425-4f47-8dc6-64ff29c4775c",
   "metadata": {},
   "outputs": [],
   "source": [
    "import numpy as np\n",
    "# errormaxtrix=np.array(testAccuracy.array().getInfo())\n",
    "\n",
    "# print(testAccuracy.name());\n",
    "# print(errormaxtrix)\n",
    "# print('Overall Accuracy:', testAccuracy.accuracy().getInfo());\n",
    "# print('Producers Accuracy:', testAccuracy.producersAccuracy().getInfo());\n",
    "# print('Consumers Accuracy:', testAccuracy.consumersAccuracy().getInfo());\n",
    "# print('Kappa:', testAccuracy.kappa().getInfo());"
   ]
  },
  {
   "cell_type": "code",
   "execution_count": 34,
   "id": "b0901e16-9e43-4e65-8e2d-5ac74838f392",
   "metadata": {},
   "outputs": [
    {
     "name": "stdout",
     "output_type": "stream",
     "text": [
      "ConfusionMatrix\n",
      "[[2597    0    0    0]\n",
      " [   0  395    0    0]\n",
      " [   0    0 1055    0]\n",
      " [   2    0    0 1038]]\n",
      "Overall Accuracy: 0.9996068409671712\n",
      "Producers Accuracy: [[1], [1], [1], [0.9980769230769231]]\n",
      "Consumers Accuracy: [[0.9992304732589458, 1, 1, 1]]\n",
      "Kappa: 0.9993936611305914\n"
     ]
    }
   ],
   "source": [
    "# // Perform the RF classification on the test set\n",
    "\n",
    "test=testing.classify(rfClassification2017)\n",
    "# print(test.first().getInfo())\n",
    "# // Get a confusion matrix representing expected accuracy.\n",
    "testAccuracy = test.errorMatrix('class', 'classification');\n",
    "\n",
    "errormaxtrix=np.array(testAccuracy.array().getInfo())\n",
    "\n",
    "print(testAccuracy.name());\n",
    "print(errormaxtrix)\n",
    "print('Overall Accuracy:', testAccuracy.accuracy().getInfo());\n",
    "print('Producers Accuracy:', testAccuracy.producersAccuracy().getInfo());\n",
    "print('Consumers Accuracy:', testAccuracy.consumersAccuracy().getInfo());\n",
    "print('Kappa:', testAccuracy.kappa().getInfo());"
   ]
  },
  {
   "cell_type": "code",
   "execution_count": 35,
   "id": "4d1a870f-bb93-4d61-8bc2-7d41351f4475",
   "metadata": {},
   "outputs": [],
   "source": [
    "# # // Perform the SVR classification on the test set\n",
    "\n",
    "# test=testing.classify(svClassification)\n",
    "# # print(test.first().getInfo())\n",
    "# # // Get a confusion matrix representing expected accuracy.\n",
    "# testAccuracy = test.errorMatrix('class', 'classification');\n",
    "\n",
    "# errormaxtrix=np.array(testAccuracy.array().getInfo())\n",
    "\n",
    "# print(testAccuracy.name());\n",
    "# print(errormaxtrix)\n",
    "# print('Overall Accuracy:', testAccuracy.accuracy().getInfo());\n",
    "# print('Producers Accuracy:', testAccuracy.producersAccuracy().getInfo());\n",
    "# print('Consumers Accuracy:', testAccuracy.consumersAccuracy().getInfo());\n",
    "# print('Kappa:', testAccuracy.kappa().getInfo());"
   ]
  },
  {
   "cell_type": "markdown",
   "id": "5d2aca3a-097c-425a-b9a1-58f3224f6e78",
   "metadata": {
    "tags": []
   },
   "source": [
    "### Make Training Dataset (2019)"
   ]
  },
  {
   "cell_type": "markdown",
   "id": "76147fd4-1f1c-4a17-b21d-619ad071c687",
   "metadata": {
    "tags": []
   },
   "source": [
    "##### Generate NDVI Layer"
   ]
  },
  {
   "cell_type": "code",
   "execution_count": 36,
   "id": "6530a82c-e54d-4de5-a055-7615d0490b42",
   "metadata": {},
   "outputs": [],
   "source": [
    "img_name ='NDVI 2019'\n",
    "ndvi_2019=s2_2019.normalizedDifference(['B8', 'B4'])\n",
    "\n",
    "vis_params = {\n",
    "  'min': -0.2,\n",
    "  'max': 1.0,\n",
    "  'palette': ['blue','white','brown','yellow', 'lime', 'green','navy']}\n",
    "\n",
    "# Map.addLayer(ndvi_2019,vis_params,img_name)\n",
    "\n",
    "# colors = vis_params['palette']\n",
    "# vmin = vis_params['min']\n",
    "# vmax = vis_params['max']\n",
    "\n",
    "# Map.add_colorbar_branca(colors=colors, vmin=vmin, vmax=vmax, layer_name=img_name)\n",
    "\n",
    "# Map"
   ]
  },
  {
   "cell_type": "markdown",
   "id": "0e19403b-e595-4bfb-a62c-b02efaca81de",
   "metadata": {},
   "source": [
    "##### Define Known Landcover"
   ]
  },
  {
   "cell_type": "code",
   "execution_count": 37,
   "id": "4bd5d7cb-7d71-4dcf-9b40-c18041b3cf3b",
   "metadata": {
    "tags": []
   },
   "outputs": [],
   "source": [
    "# FOR BARE SOIL\n",
    "\n",
    "# // Create an ee.Geometry.\n",
    "polygon = ee.Geometry.Polygon([\n",
    "                   [-111.904,40.013],\n",
    "                   [-111.881,40.013],\n",
    "                   [-111.881,40.010],\n",
    "                   [-111.904,40.010]]);\n",
    "\n",
    "# // Create a Feature from the Geometry.\n",
    "baresoil2019 = ee.Feature(polygon, {'class': 0, 'name': 'bare soil 2019'})"
   ]
  },
  {
   "cell_type": "code",
   "execution_count": 38,
   "id": "d5b6f583-c65e-450c-bfcc-8321a9ab9d89",
   "metadata": {
    "tags": []
   },
   "outputs": [],
   "source": [
    "# FOR WATER\n",
    "\n",
    "# // Create an ee.Geometry.\n",
    "polygon = ee.Geometry.Polygon([\n",
    "                   [-111.881,40.049],\n",
    "                   [-111.877,40.049],\n",
    "                   [-111.883,40.043]]);\n",
    "\n",
    "# // Create a Feature from the Geometry.\n",
    "water2019 = ee.Feature(polygon, {'class': 1, 'name': 'water2019'});"
   ]
  },
  {
   "cell_type": "code",
   "execution_count": 39,
   "id": "1a6908da-ec4c-4dba-9c96-6c878ebac2ee",
   "metadata": {},
   "outputs": [],
   "source": [
    "# FOR PHRAGMITES\n",
    "\n",
    "# // Create an ee.Geometry.\n",
    "polygon = ee.Geometry.Polygon([\n",
    "                   [-111.8966, 40.0320],\n",
    "                   [-111.8912, 40.0304],\n",
    "                   [-111.8910, 40.0268],\n",
    "                   [-111.8982, 40.0302]]);\n",
    "\n",
    "# // Create a Feature from the Geometry.\n",
    "phragmites2019 = ee.Feature(polygon, {'class': 2, 'name': 'phragmites2019'});"
   ]
  },
  {
   "cell_type": "code",
   "execution_count": 40,
   "id": "d8284d9c-d722-4257-829d-1291015028f3",
   "metadata": {},
   "outputs": [],
   "source": [
    "# FOR CATTAILS\n",
    "\n",
    "# // Create an ee.Geometry.\n",
    "polygon = ee.Geometry.Polygon([\n",
    "                   [-111.9150, 40.0490],\n",
    "                   [-111.9124, 40.0465],\n",
    "                   [-111.9147, 40.0454],\n",
    "                   [-111.9161, 40.0476]]);\n",
    "\n",
    "# // Create a Feature from the Geometry.\n",
    "cat2019 = ee.Feature(polygon, {'class': 3, 'name': 'cattails2019'});"
   ]
  },
  {
   "cell_type": "code",
   "execution_count": 41,
   "id": "57bd9d47-c7f4-4381-b388-3d853b2a2977",
   "metadata": {
    "tags": []
   },
   "outputs": [],
   "source": [
    "# FOR WATER #2\n",
    "\n",
    "# // Create an ee.Geometry.\n",
    "polygon = ee.Geometry.Polygon([\n",
    "                   [-111.911,40.033],\n",
    "                   [-111.907,40.033],\n",
    "                   [-111.907,40.031],\n",
    "                   [-111.911,40.030]]);\n",
    "\n",
    "# // Create a Feature from the Geometry.\n",
    "water2_2019 = ee.Feature(polygon, {'class': 1, 'name': 'water2 2019'});"
   ]
  },
  {
   "cell_type": "code",
   "execution_count": 42,
   "id": "370324dc-5734-4982-9ef3-e9dab35ea4d1",
   "metadata": {},
   "outputs": [],
   "source": [
    "# FOR BARE SOIL #2\n",
    "\n",
    "# // Create an ee.Geometry.\n",
    "polygon = ee.Geometry.Polygon([\n",
    "                   [-111.9192, 40.0313],\n",
    "                   [-111.9176, 40.0313],\n",
    "                   [-111.9177, 40.0236]]);\n",
    "\n",
    "# // Create a Feature from the Geometry.\n",
    "baresoil2_2019 = ee.Feature(polygon, {'class': 0, 'name': 'bare soil 2'});"
   ]
  },
  {
   "cell_type": "code",
   "execution_count": 43,
   "id": "2595b44c-72cd-4f6a-a8ef-898c4497e9db",
   "metadata": {},
   "outputs": [],
   "source": [
    "# Merge Features into a Feature Collection\n",
    "\n",
    "trainingFeatures2019 = ee.FeatureCollection([water2019, water2_2019, baresoil2019, cat2019, phragmites2019, baresoil2_2019])"
   ]
  },
  {
   "cell_type": "code",
   "execution_count": 44,
   "id": "a70f3e01-0935-443c-baf5-659313027133",
   "metadata": {},
   "outputs": [],
   "source": [
    "# Create layer group\n",
    "polygon_layers2019 = trainingFeatures2019\n",
    "\n",
    "# Add layer group to map\n",
    "# Map.addLayer(polygon_layers2019, {}, 'Polygons2019')\n",
    "# Map"
   ]
  },
  {
   "cell_type": "code",
   "execution_count": 45,
   "id": "7388fca4-cb28-4557-8bac-4546affa7688",
   "metadata": {},
   "outputs": [],
   "source": [
    "# Specify the Sentinel 2 bands to be used as predictors (i.e. the elements of p):\n",
    "\n",
    "predictionBands = ['B2', 'B3', 'B4', 'B8', 'B8A', 'B11', 'B12']"
   ]
  },
  {
   "cell_type": "code",
   "execution_count": 46,
   "id": "717b8665-7cc3-4ff3-bf5d-a887597a0dc9",
   "metadata": {},
   "outputs": [
    {
     "name": "stdout",
     "output_type": "stream",
     "text": [
      "{'type': 'Feature', 'geometry': {'type': 'Polygon', 'coordinates': [[[-111.881, 40.049], [-111.883, 40.043], [-111.877, 40.049], [-111.881, 40.049]]]}, 'id': '0', 'properties': {'class': 1, 'name': 'water2019'}}\n"
     ]
    }
   ],
   "source": [
    "# In the merged FeatureCollection, each Feature should have a property called 'class' where the classes are consecutive integers,\n",
    "# one for each class, starting at 0. Verify that this is true.\n",
    "\n",
    "print(trainingFeatures2019.first().getInfo())"
   ]
  },
  {
   "cell_type": "code",
   "execution_count": 47,
   "id": "14c37bc0-ced7-462e-9535-1765263cf5df",
   "metadata": {},
   "outputs": [],
   "source": [
    "# Create a training set T for the classifier by sampling the Sentinel 2 image with the merged features:\n",
    "\n",
    "classifierTraining = s2_2019.select(predictionBands).sampleRegions(\n",
    "      collection= trainingFeatures2019, \n",
    "      properties= ['class'], \n",
    "      scale= 10\n",
    "    );"
   ]
  },
  {
   "cell_type": "code",
   "execution_count": 48,
   "id": "1aa35328-569a-4447-ae17-36f767b6e460",
   "metadata": {},
   "outputs": [],
   "source": [
    "# // Randomly split the data into 60% for training, and 40% for testing\n",
    "trainingTesting = classifierTraining.randomColumn('random',111009);\n",
    "\n",
    "training = trainingTesting.filter(ee.Filter.lt('random', 0.66));\n",
    "\n",
    "testing = trainingTesting.filter(ee.Filter.gte('random', 0.66));"
   ]
  },
  {
   "cell_type": "markdown",
   "id": "f4d5010d-668e-49de-b154-892a14d6407f",
   "metadata": {},
   "source": [
    "Use a Random Forest classifier"
   ]
  },
  {
   "cell_type": "code",
   "execution_count": 49,
   "id": "d4f4a165-1bb9-4bda-b072-6334139c48d2",
   "metadata": {},
   "outputs": [],
   "source": [
    "# hyperparameter to tune\n",
    "trees_val=13\n",
    "\n",
    "rfClassification2019 = ee.Classifier.smileRandomForest(numberOfTrees=trees_val, seed=111009).train(\n",
    "      features= training, \n",
    "      classProperty= 'class', \n",
    "      inputProperties= predictionBands\n",
    "    )"
   ]
  },
  {
   "cell_type": "code",
   "execution_count": 50,
   "id": "1affeb0e-21e8-4ac5-9714-a82b353302a1",
   "metadata": {},
   "outputs": [
    {
     "data": {
      "application/vnd.jupyter.widget-view+json": {
       "model_id": "f52c3120c9344958ad322881296a380c",
       "version_major": 2,
       "version_minor": 0
      },
      "text/plain": [
       "Map(center=[40.029, -111.901], controls=(WidgetControl(options=['position', 'transparent_bg'], widget=HBox(chi…"
      ]
     },
     "metadata": {},
     "output_type": "display_data"
    }
   ],
   "source": [
    "# // Perform the RF regression on the Sentinel 2 image\n",
    "rfClassificationImage2019 = s2_2019.select(predictionBands).classify(rfClassification2019);\n",
    "    \n",
    "# // Visualize the RF regression\n",
    "Map.addLayer(rfClassificationImage2019,  {'min': 0, 'max': 4,\n",
    "                                   'palette':['794A39', 'blue','green', 'yellow', 'red']}, 'RF 2019');\n",
    "\n",
    "Map"
   ]
  },
  {
   "cell_type": "code",
   "execution_count": 51,
   "id": "21ac6ee3-d104-4858-b7f0-e9e9224ad226",
   "metadata": {},
   "outputs": [
    {
     "name": "stdout",
     "output_type": "stream",
     "text": [
      "ConfusionMatrix\n",
      "[[2403    0    0    0]\n",
      " [   0  679    0    0]\n",
      " [   0    0  626    0]\n",
      " [   0    0    0  204]]\n",
      "Overall Accuracy: 1\n",
      "Producers Accuracy: [[1], [1], [1], [1]]\n",
      "Consumers Accuracy: [[1, 1, 1, 1]]\n",
      "Kappa: 1\n"
     ]
    }
   ],
   "source": [
    "# // Perform the RF classification on the test set\n",
    "\n",
    "test=testing.classify(rfClassification2019)\n",
    "# print(test.first().getInfo())\n",
    "# // Get a confusion matrix representing expected accuracy.\n",
    "testAccuracy = test.errorMatrix('class', 'classification');\n",
    "\n",
    "errormaxtrix=np.array(testAccuracy.array().getInfo())\n",
    "\n",
    "print(testAccuracy.name());\n",
    "print(errormaxtrix)\n",
    "print('Overall Accuracy:', testAccuracy.accuracy().getInfo());\n",
    "print('Producers Accuracy:', testAccuracy.producersAccuracy().getInfo());\n",
    "print('Consumers Accuracy:', testAccuracy.consumersAccuracy().getInfo());\n",
    "print('Kappa:', testAccuracy.kappa().getInfo());"
   ]
  },
  {
   "cell_type": "markdown",
   "id": "c8f046a8-76b0-4c16-ac10-3b369b229e57",
   "metadata": {
    "jp-MarkdownHeadingCollapsed": true,
    "tags": []
   },
   "source": [
    "### Make Training Dataset (2021)"
   ]
  },
  {
   "cell_type": "markdown",
   "id": "d7b5c919-a0cb-46d8-afe0-739bce127dae",
   "metadata": {
    "tags": []
   },
   "source": [
    "##### Generate NDVI Layer"
   ]
  },
  {
   "cell_type": "code",
   "execution_count": 52,
   "id": "ba4cacd5",
   "metadata": {},
   "outputs": [],
   "source": [
    "img_name ='NDVI 2021'\n",
    "ndvi_2021=s2_2021.normalizedDifference(['B8', 'B4'])\n",
    "\n",
    "vis_params = {\n",
    "  'min': -0.2,\n",
    "  'max': 1.0,\n",
    "  'palette': ['blue','white','brown','yellow', 'lime', 'green','navy']}\n",
    "\n",
    "# Map.addLayer(ndvi_2021,vis_params,img_name)\n",
    "\n",
    "# colors = vis_params['palette']\n",
    "# vmin = vis_params['min']\n",
    "# vmax = vis_params['max']\n",
    "\n",
    "# Map.add_colorbar_branca(colors=colors, vmin=vmin, vmax=vmax, layer_name=img_name)\n",
    "\n",
    "# Map"
   ]
  },
  {
   "cell_type": "markdown",
   "id": "d713319b-a8bb-4509-976b-c9492c7146bd",
   "metadata": {},
   "source": [
    "##### Define Known Landcover"
   ]
  },
  {
   "cell_type": "code",
   "execution_count": 53,
   "id": "63daebf5",
   "metadata": {
    "tags": []
   },
   "outputs": [],
   "source": [
    "# FOR BARE SOIL\n",
    "\n",
    "# // Create an ee.Geometry.\n",
    "polygon = ee.Geometry.Polygon([\n",
    "                   [-111.904,40.013],\n",
    "                   [-111.881,40.013],\n",
    "                   [-111.881,40.010],\n",
    "                   [-111.904,40.010]]);\n",
    "\n",
    "# // Create a Feature from the Geometry.\n",
    "baresoil2021 = ee.Feature(polygon, {'class': 0, 'name': 'bare soil 2021'})"
   ]
  },
  {
   "cell_type": "code",
   "execution_count": 54,
   "id": "6bb08418",
   "metadata": {
    "tags": []
   },
   "outputs": [],
   "source": [
    "# FOR WATER\n",
    "\n",
    "# // Create an ee.Geometry.\n",
    "polygon = ee.Geometry.Polygon([\n",
    "                   [-111.881,40.049],\n",
    "                   [-111.877,40.049],\n",
    "                   [-111.883,40.043]]);\n",
    "\n",
    "# // Create a Feature from the Geometry.\n",
    "water2021 = ee.Feature(polygon, {'class': 1, 'name': 'water2021'});"
   ]
  },
  {
   "cell_type": "code",
   "execution_count": 55,
   "id": "380d2c70",
   "metadata": {},
   "outputs": [],
   "source": [
    "# FOR PHRAGMITES\n",
    "\n",
    "# // Create an ee.Geometry.\n",
    "polygon = ee.Geometry.Polygon([\n",
    "                   [-111.9156,40.0224],\n",
    "                   [-111.9107,40.0190],\n",
    "                   [-111.9127,40.0178],\n",
    "                   [-111.9173,40.0206]]);\n",
    "\n",
    "# // Create a Feature from the Geometry.\n",
    "phragmites2021 = ee.Feature(polygon, {'class': 2, 'name': 'phragmites2021'});"
   ]
  },
  {
   "cell_type": "code",
   "execution_count": 56,
   "id": "b04aa3ba",
   "metadata": {},
   "outputs": [],
   "source": [
    "# FOR CATTAILS\n",
    "\n",
    "# // Create an ee.Geometry.\n",
    "polygon = ee.Geometry.Polygon([\n",
    "                   [-111.9187,40.0487],\n",
    "                   [-111.9161,40.0484],\n",
    "                   [-111.9165,40.0451],\n",
    "                   [-111.9195,40.0461]]);\n",
    "\n",
    "# // Create a Feature from the Geometry.\n",
    "cat2021 = ee.Feature(polygon, {'class': 3, 'name': 'cattails2021'});"
   ]
  },
  {
   "cell_type": "code",
   "execution_count": 57,
   "id": "5ea3dc00",
   "metadata": {},
   "outputs": [],
   "source": [
    "# # FOR WATER #2\n",
    "\n",
    "# # // Create an ee.Geometry.\n",
    "# polygon = ee.Geometry.Polygon([\n",
    "#                    [-111.911,40.033],\n",
    "#                    [-111.907,40.033],\n",
    "#                    [-111.907,40.031],\n",
    "#                    [-111.911,40.030]]);\n",
    "\n",
    "# # // Create a Feature from the Geometry.\n",
    "# water2_2019 = ee.Feature(polygon, {'class': 1, 'name': 'water2 2019'});"
   ]
  },
  {
   "cell_type": "code",
   "execution_count": 58,
   "id": "52ea587a-4c84-43e2-b6e4-142318acfaf3",
   "metadata": {},
   "outputs": [],
   "source": [
    "# Merge Features into a Feature Collection\n",
    "\n",
    "trainingFeatures2021 = ee.FeatureCollection([water2021, baresoil2021, cat2021, phragmites2021])"
   ]
  },
  {
   "cell_type": "code",
   "execution_count": 59,
   "id": "36ffd929-99b5-4805-a861-e249ad1995d8",
   "metadata": {},
   "outputs": [],
   "source": [
    "# Create layer group\n",
    "polygon_layers2021 = trainingFeatures2021\n",
    "\n",
    "# Add layer group to map\n",
    "# Map.addLayer(polygon_layers2021, {}, 'Polygons2021')\n",
    "# Map"
   ]
  },
  {
   "cell_type": "code",
   "execution_count": 60,
   "id": "a644be6b-715c-42e5-ad47-37b19df4ad1d",
   "metadata": {
    "tags": []
   },
   "outputs": [],
   "source": [
    "# Specify the Sentinel 2 bands to be used as predictors (i.e. the elements of p):\n",
    "\n",
    "predictionBands = ['B2', 'B3', 'B4', 'B8', 'B8A', 'B11', 'B12']"
   ]
  },
  {
   "cell_type": "code",
   "execution_count": 61,
   "id": "826bc4a3-171a-405b-9e2a-2b7f276620ce",
   "metadata": {},
   "outputs": [
    {
     "name": "stdout",
     "output_type": "stream",
     "text": [
      "{'type': 'Feature', 'geometry': {'type': 'Polygon', 'coordinates': [[[-111.881, 40.049], [-111.883, 40.043], [-111.877, 40.049], [-111.881, 40.049]]]}, 'id': '0', 'properties': {'class': 1, 'name': 'water2021'}}\n"
     ]
    }
   ],
   "source": [
    "# In the merged FeatureCollection, each Feature should have a property called 'class' where the classes are consecutive integers,\n",
    "# one for each class, starting at 0. Verify that this is true.\n",
    "\n",
    "print(trainingFeatures2021.first().getInfo())"
   ]
  },
  {
   "cell_type": "code",
   "execution_count": 62,
   "id": "25f9f4f4-46d0-4267-93fc-139292fc09df",
   "metadata": {},
   "outputs": [],
   "source": [
    "# Create a training set T for the classifier by sampling the Sentinel 2 image with the merged features:\n",
    "\n",
    "classifierTraining = s2_2021.select(predictionBands).sampleRegions(\n",
    "      collection= trainingFeatures2021, \n",
    "      properties= ['class'], \n",
    "      scale= 10\n",
    "    );"
   ]
  },
  {
   "cell_type": "code",
   "execution_count": 63,
   "id": "f188948e-4bde-47a1-a1cd-a0656b1c7ae2",
   "metadata": {},
   "outputs": [],
   "source": [
    "# // Randomly split the data into 60% for training, and 40% for testing\n",
    "trainingTesting = classifierTraining.randomColumn('random',111009);\n",
    "\n",
    "training = trainingTesting.filter(ee.Filter.lt('random', 0.66));\n",
    "\n",
    "testing = trainingTesting.filter(ee.Filter.gte('random', 0.66));"
   ]
  },
  {
   "cell_type": "markdown",
   "id": "5a00f154-ee7f-4d87-946f-d0dcb6eda545",
   "metadata": {},
   "source": [
    "Use a Random Forest classifier"
   ]
  },
  {
   "cell_type": "code",
   "execution_count": 64,
   "id": "93be0c73-f655-43a2-bd61-a3151d9f0b60",
   "metadata": {},
   "outputs": [],
   "source": [
    "# hyperparameter to tune\n",
    "trees_val=13\n",
    "\n",
    "rfClassification2021 = ee.Classifier.smileRandomForest(numberOfTrees=trees_val, seed=111009).train(\n",
    "      features= training, \n",
    "      classProperty= 'class', \n",
    "      inputProperties= predictionBands\n",
    "    )"
   ]
  },
  {
   "cell_type": "code",
   "execution_count": 65,
   "id": "19f81b6f-9678-492e-bf86-fc6ae3344cdf",
   "metadata": {},
   "outputs": [
    {
     "data": {
      "application/vnd.jupyter.widget-view+json": {
       "model_id": "f52c3120c9344958ad322881296a380c",
       "version_major": 2,
       "version_minor": 0
      },
      "text/plain": [
       "Map(center=[40.029, -111.901], controls=(WidgetControl(options=['position', 'transparent_bg'], widget=HBox(chi…"
      ]
     },
     "metadata": {},
     "output_type": "display_data"
    }
   ],
   "source": [
    "# // Perform the RF regression on the Sentinel 2 image\n",
    "rfClassificationImage2021 = s2_2021.select(predictionBands).classify(rfClassification2021);\n",
    "    \n",
    "# // Visualize the RF regression\n",
    "Map.addLayer(rfClassificationImage2021,  {'min': 0, 'max': 4,\n",
    "                                   'palette':['794A39', 'blue','green', 'yellow', 'red']}, 'RF 2021');\n",
    "\n",
    "Map"
   ]
  },
  {
   "cell_type": "code",
   "execution_count": 66,
   "id": "22311144-0b23-40bc-a3bb-ff24b0f409e6",
   "metadata": {},
   "outputs": [
    {
     "name": "stdout",
     "output_type": "stream",
     "text": [
      "ConfusionMatrix\n",
      "[[2231    0    0    1]\n",
      " [   0  397    0    0]\n",
      " [   0    0  451    0]\n",
      " [   0    0    0  286]]\n",
      "Overall Accuracy: 0.9997029114676174\n",
      "Producers Accuracy: [[0.9995519713261649], [1], [1], [1]]\n",
      "Consumers Accuracy: [[1, 1, 1, 0.9965156794425087]]\n",
      "Kappa: 0.9994301938356654\n"
     ]
    }
   ],
   "source": [
    "# // Perform the RF classification on the test set\n",
    "\n",
    "test=testing.classify(rfClassification2021)\n",
    "# print(test.first().getInfo())\n",
    "# // Get a confusion matrix representing expected accuracy.\n",
    "testAccuracy = test.errorMatrix('class', 'classification');\n",
    "\n",
    "errormaxtrix=np.array(testAccuracy.array().getInfo())\n",
    "\n",
    "print(testAccuracy.name());\n",
    "print(errormaxtrix)\n",
    "print('Overall Accuracy:', testAccuracy.accuracy().getInfo());\n",
    "print('Producers Accuracy:', testAccuracy.producersAccuracy().getInfo());\n",
    "print('Consumers Accuracy:', testAccuracy.consumersAccuracy().getInfo());\n",
    "print('Kappa:', testAccuracy.kappa().getInfo());"
   ]
  },
  {
   "cell_type": "markdown",
   "id": "340450ab-90ec-40f9-86b3-138cfe286402",
   "metadata": {
    "tags": []
   },
   "source": [
    "### Export Images and Area"
   ]
  },
  {
   "cell_type": "code",
   "execution_count": 80,
   "id": "4c7dac08-bd0c-4c65-b14d-443ed8e6fa64",
   "metadata": {},
   "outputs": [
    {
     "name": "stdout",
     "output_type": "stream",
     "text": [
      "Generating URL ...\n",
      "Downloading data from https://earthengine.googleapis.com/v1alpha/projects/earthengine-legacy/thumbnails/fd189137ae5d2239a5f5b484ba792392-6f3f3129db1cea20820b1bef00288be9:getPixels\n",
      "Please wait ...\n",
      "Data downloaded to /home/jovyan/data/CEE5003/USU_CEE5003_Assignments/RF2017.tif\n"
     ]
    }
   ],
   "source": [
    "# Define the visualization parameters\n",
    "vis_params = {'min': 0, 'max': 4, 'palette':['794A39', 'blue','green', 'yellow', 'red']}\n",
    "\n",
    "# Apply the visualization parameters to the image\n",
    "rfClassificationImage2017_vis = rfClassificationImage2017.visualize(**vis_params)\n",
    "\n",
    "# Export the image to your local machine\n",
    "geemap.ee_export_image(rfClassificationImage2017_vis, 'RF2017.tif', scale=8, region=AOI)"
   ]
  },
  {
   "cell_type": "code",
   "execution_count": 83,
   "id": "abfc83a9-03a3-41b3-8368-1b9f7b004d30",
   "metadata": {},
   "outputs": [
    {
     "name": "stdout",
     "output_type": "stream",
     "text": [
      "Generating URL ...\n",
      "Downloading data from https://earthengine.googleapis.com/v1alpha/projects/earthengine-legacy/thumbnails/b2e00b55479b19c1f73d07e385ef0f2a-b4180fefceabc9d60dd9ee0a1030cb3f:getPixels\n",
      "Please wait ...\n",
      "Data downloaded to /home/jovyan/data/CEE5003/USU_CEE5003_Assignments/RF2019.tif\n"
     ]
    }
   ],
   "source": [
    "# Define the visualization parameters\n",
    "vis_params = {'min': 0, 'max': 4, 'palette':['794A39', 'blue','green', 'yellow', 'red']}\n",
    "\n",
    "# Apply the visualization parameters to the image\n",
    "rfClassificationImage2019_vis = rfClassificationImage2019.visualize(**vis_params)\n",
    "\n",
    "# Export the image to your local machine\n",
    "geemap.ee_export_image(rfClassificationImage2019_vis, 'RF2019.tif', scale=8, region=AOI)"
   ]
  },
  {
   "cell_type": "code",
   "execution_count": 84,
   "id": "b6edf1b3-e3e4-4fba-87e7-968366a1c7d9",
   "metadata": {},
   "outputs": [
    {
     "name": "stdout",
     "output_type": "stream",
     "text": [
      "Generating URL ...\n",
      "Downloading data from https://earthengine.googleapis.com/v1alpha/projects/earthengine-legacy/thumbnails/fd235affe8da67fcf99ad575ff2ef884-a083aacc0094d76137539747059b948e:getPixels\n",
      "Please wait ...\n",
      "Data downloaded to /home/jovyan/data/CEE5003/USU_CEE5003_Assignments/RF2021.tif\n"
     ]
    }
   ],
   "source": [
    "# Define the visualization parameters\n",
    "vis_params = {'min': 0, 'max': 4, 'palette':['794A39', 'blue','green', 'yellow', 'red']}\n",
    "\n",
    "# Apply the visualization parameters to the image\n",
    "rfClassificationImage2021_vis = rfClassificationImage2021.visualize(**vis_params)\n",
    "\n",
    "# Export the image to your local machine\n",
    "geemap.ee_export_image(rfClassificationImage2021_vis, 'RF2021.tif', scale=8, region=AOI)"
   ]
  },
  {
   "cell_type": "code",
   "execution_count": 89,
   "id": "62a2488e-cf3b-4039-86d6-5072a8b09a9e",
   "metadata": {},
   "outputs": [
    {
     "name": "stdout",
     "output_type": "stream",
     "text": [
      "Projection: {'type': 'Projection', 'crs': 'EPSG:32612', 'transform': [10, 0, 399960, 0, -10, 4500000]}\n"
     ]
    }
   ],
   "source": [
    "proj = rfClassificationImage2017.projection()\n",
    "print('Projection:', proj.getInfo())"
   ]
  },
  {
   "cell_type": "code",
   "execution_count": 99,
   "id": "4e6eeffa-9b66-4e9e-bb30-cf484eb1bc79",
   "metadata": {},
   "outputs": [
    {
     "name": "stdout",
     "output_type": "stream",
     "text": [
      "Feature: 0\n",
      "Class: 1\n",
      "Feature: 1\n",
      "Class: 0\n",
      "Feature: 2\n",
      "Class: 0\n",
      "Feature: 3\n",
      "Class: 3\n",
      "Feature: 4\n",
      "Class: 2\n",
      "Class areas: {'0': 76.75466666666654, '1': 11.360862745098036, '2': 31.19243137254902, '3': 29.76674509803922}\n"
     ]
    }
   ],
   "source": [
    "# Define the scale at which to calculate areas\n",
    "scale = 10\n",
    "\n",
    "# Initialize the class areas dictionary\n",
    "class_areas = {'0': 0, '1': 0, '2': 0, '3': 0}\n",
    "\n",
    "# Loop over each feature (polygon) in the feature collection\n",
    "for feature in trainingFeatures.getInfo()['features']:\n",
    "  \n",
    "  # Get the feature ID and class\n",
    "  feature_id = feature['id']\n",
    "  feature_class = feature['properties']['class']\n",
    "  \n",
    "  # Get the feature geometry\n",
    "  feature_geom = ee.Geometry(feature['geometry'])\n",
    "  \n",
    "  # Reduce the classified image to a table of pixel areas within the feature geometry\n",
    "  areas = rfClassificationImage2017.reduceRegion(\n",
    "      reducer= ee.Reducer.frequencyHistogram(),\n",
    "      geometry= feature_geom,\n",
    "      scale= scale,\n",
    "      maxPixels= 1e13\n",
    "  )\n",
    "  \n",
    "  # Get the pixel count for each class within the feature geometry\n",
    "  pixel_count = areas.get('classification').getInfo()\n",
    "  \n",
    "  # Calculate the area of each class within the feature geometry and add to the class_areas dictionary\n",
    "  for class_val, count in pixel_count.items():\n",
    "    if class_val in class_areas:\n",
    "      class_areas[class_val] += count * scale * scale / 10000.0  # convert square meters to hectares\n",
    "  \n",
    "  # Print the feature ID and class\n",
    "  print('Feature:', feature_id)\n",
    "  print('Class:', feature_class)\n",
    "  \n",
    "# Print the class areas\n",
    "print('Class areas:', class_areas)\n"
   ]
  },
  {
   "cell_type": "code",
   "execution_count": 100,
   "id": "8fff0e5d-a6a1-422b-b0d3-72ad6b38ceef",
   "metadata": {},
   "outputs": [
    {
     "name": "stdout",
     "output_type": "stream",
     "text": [
      "Feature: 0\n",
      "Class: 1\n",
      "Feature: 1\n",
      "Class: 1\n",
      "Feature: 2\n",
      "Class: 0\n",
      "Feature: 3\n",
      "Class: 3\n",
      "Feature: 4\n",
      "Class: 2\n",
      "Feature: 5\n",
      "Class: 0\n",
      "Class areas: {'0': 71.20066666666654, '1': 20.830313725490193, '2': 17.765803921568633, '3': 6.1490196078431385}\n"
     ]
    }
   ],
   "source": [
    "# Define the scale at which to calculate areas\n",
    "scale = 10\n",
    "\n",
    "# Initialize the class areas dictionary\n",
    "class_areas = {'0': 0, '1': 0, '2': 0, '3': 0}\n",
    "\n",
    "# Loop over each feature (polygon) in the feature collection\n",
    "for feature in trainingFeatures2019.getInfo()['features']:\n",
    "  \n",
    "  # Get the feature ID and class\n",
    "  feature_id = feature['id']\n",
    "  feature_class = feature['properties']['class']\n",
    "  \n",
    "  # Get the feature geometry\n",
    "  feature_geom = ee.Geometry(feature['geometry'])\n",
    "  \n",
    "  # Reduce the classified image to a table of pixel areas within the feature geometry\n",
    "  areas = rfClassificationImage2019.reduceRegion(\n",
    "      reducer= ee.Reducer.frequencyHistogram(),\n",
    "      geometry= feature_geom,\n",
    "      scale= scale,\n",
    "      maxPixels= 1e13\n",
    "  )\n",
    "  \n",
    "  # Get the pixel count for each class within the feature geometry\n",
    "  pixel_count = areas.get('classification').getInfo()\n",
    "  \n",
    "  # Calculate the area of each class within the feature geometry and add to the class_areas dictionary\n",
    "  for class_val, count in pixel_count.items():\n",
    "    if class_val in class_areas:\n",
    "      class_areas[class_val] += count * scale * scale / 10000.0  # convert square meters to hectares\n",
    "  \n",
    "  # Print the feature ID and class\n",
    "  print('Feature:', feature_id)\n",
    "  print('Class:', feature_class)\n",
    "  \n",
    "# Print the class areas\n",
    "print('Class areas:', class_areas)\n"
   ]
  },
  {
   "cell_type": "code",
   "execution_count": 101,
   "id": "d78dd689-70ff-4c71-8c07-a57803a754a2",
   "metadata": {},
   "outputs": [
    {
     "name": "stdout",
     "output_type": "stream",
     "text": [
      "Feature: 0\n",
      "Class: 1\n",
      "Feature: 1\n",
      "Class: 0\n",
      "Feature: 2\n",
      "Class: 3\n",
      "Feature: 3\n",
      "Class: 2\n",
      "Class areas: {'0': 65.34847058823517, '1': 11.360862745098036, '2': 12.18015686274509, '3': 8.208705882352941}\n"
     ]
    }
   ],
   "source": [
    "# Define the scale at which to calculate areas\n",
    "scale = 10\n",
    "\n",
    "# Initialize the class areas dictionary\n",
    "class_areas = {'0': 0, '1': 0, '2': 0, '3': 0}\n",
    "\n",
    "# Loop over each feature (polygon) in the feature collection\n",
    "for feature in trainingFeatures2021.getInfo()['features']:\n",
    "  \n",
    "  # Get the feature ID and class\n",
    "  feature_id = feature['id']\n",
    "  feature_class = feature['properties']['class']\n",
    "  \n",
    "  # Get the feature geometry\n",
    "  feature_geom = ee.Geometry(feature['geometry'])\n",
    "  \n",
    "  # Reduce the classified image to a table of pixel areas within the feature geometry\n",
    "  areas = rfClassificationImage2021.reduceRegion(\n",
    "      reducer= ee.Reducer.frequencyHistogram(),\n",
    "      geometry= feature_geom,\n",
    "      scale= scale,\n",
    "      maxPixels= 1e13\n",
    "  )\n",
    "  \n",
    "  # Get the pixel count for each class within the feature geometry\n",
    "  pixel_count = areas.get('classification').getInfo()\n",
    "  \n",
    "  # Calculate the area of each class within the feature geometry and add to the class_areas dictionary\n",
    "  for class_val, count in pixel_count.items():\n",
    "    if class_val in class_areas:\n",
    "      class_areas[class_val] += count * scale * scale / 10000.0  # convert square meters to hectares\n",
    "  \n",
    "  # Print the feature ID and class\n",
    "  print('Feature:', feature_id)\n",
    "  print('Class:', feature_class)\n",
    "  \n",
    "# Print the class areas\n",
    "print('Class areas:', class_areas)\n"
   ]
  },
  {
   "cell_type": "code",
   "execution_count": null,
   "id": "7d50fd47-a311-4b9b-b05d-3476f136d8a5",
   "metadata": {},
   "outputs": [],
   "source": []
  }
 ],
 "metadata": {
  "kernelspec": {
   "display_name": "Python 3 (ipykernel)",
   "language": "python",
   "name": "python3"
  },
  "language_info": {
   "codemirror_mode": {
    "name": "ipython",
    "version": 3
   },
   "file_extension": ".py",
   "mimetype": "text/x-python",
   "name": "python",
   "nbconvert_exporter": "python",
   "pygments_lexer": "ipython3",
   "version": "3.9.7"
  }
 },
 "nbformat": 4,
 "nbformat_minor": 5
}
