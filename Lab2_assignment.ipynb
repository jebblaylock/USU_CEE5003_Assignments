{
 "cells": [
  {
   "cell_type": "markdown",
   "id": "b46f2c6e-c585-499b-b1d9-7eebd49c586a",
   "metadata": {},
   "source": [
    "# Lab #2 Assignment: Satellite Information\n",
    "## Justin Blaylock, 2023\n",
    "Adding imagery from different satellites in both natural and false color"
   ]
  },
  {
   "cell_type": "raw",
   "id": "51a48fac-387a-438b-a185-074d14e781ac",
   "metadata": {},
   "source": [
    "# note: pass the following command on a terminal before running this notebook\n",
    "\n",
    "pip install -U geemap"
   ]
  },
  {
   "cell_type": "markdown",
   "id": "c2a8d676-aa90-42e6-bad8-20ded36a029f",
   "metadata": {},
   "source": [
    "## 1. Calling geemap\n",
    "\n",
    "I am copying code from geemap 108 notebook to avoid the gee token setup."
   ]
  },
  {
   "cell_type": "code",
   "execution_count": 1,
   "id": "285c37ad-998d-4ed3-897c-5be160f738fd",
   "metadata": {},
   "outputs": [],
   "source": [
    "import ee\n",
    "import geemap\n",
    "import geemap.colormaps as cm"
   ]
  },
  {
   "cell_type": "markdown",
   "id": "4337c37c-69f8-4843-bbca-228b7b3d8982",
   "metadata": {},
   "source": [
    "## 2. Generate a map"
   ]
  },
  {
   "cell_type": "code",
   "execution_count": 2,
   "id": "56f86ce0-4adb-4080-9b6e-3232f02d6940",
   "metadata": {},
   "outputs": [
    {
     "data": {
      "application/vnd.jupyter.widget-view+json": {
       "model_id": "d2fdcf5083bd4e91a43a1b44f12dabcf",
       "version_major": 2,
       "version_minor": 0
      },
      "text/plain": [
       "Map(center=[40, -100], controls=(WidgetControl(options=['position', 'transparent_bg'], widget=HBox(children=(T…"
      ]
     },
     "metadata": {},
     "output_type": "display_data"
    }
   ],
   "source": [
    "Map = geemap.Map(center=[40, -100], zoom=4)\n",
    "Map"
   ]
  },
  {
   "cell_type": "markdown",
   "id": "9ffbe528-9280-48f1-a3e9-100267587725",
   "metadata": {},
   "source": [
    "## 3. Define a point of interest\n",
    "\n",
    "Find lat/long of POI using the https://www.latlong.net/ website. In this case, coordinates are for Spanish Fork, Utah."
   ]
  },
  {
   "cell_type": "code",
   "execution_count": 3,
   "id": "abca9c76-f654-46ca-9c41-fef8e2cad102",
   "metadata": {},
   "outputs": [],
   "source": [
    "latitude = 40.115009\n",
    "longitude= -111.654709"
   ]
  },
  {
   "cell_type": "code",
   "execution_count": 4,
   "id": "786d2fe3-f64c-47aa-84bd-761954d40a9a",
   "metadata": {},
   "outputs": [],
   "source": [
    "point = ee.Geometry.Point([longitude, latitude])"
   ]
  },
  {
   "cell_type": "markdown",
   "id": "c3242012-20a2-43ce-b1f6-1ba4e33e3bc5",
   "metadata": {
    "tags": []
   },
   "source": [
    "## 4. Retrieve satellite imagery:"
   ]
  },
  {
   "cell_type": "markdown",
   "id": "0f5465c7-a8fc-420b-862d-7bc3a65fd2be",
   "metadata": {
    "jp-MarkdownHeadingCollapsed": true,
    "tags": []
   },
   "source": [
    "### - ASTER"
   ]
  },
  {
   "cell_type": "code",
   "execution_count": 5,
   "id": "6cafca07-ea81-4679-aff4-c95b6572b02e",
   "metadata": {},
   "outputs": [],
   "source": [
    "aster = ee.ImageCollection(\"ASTER/AST_L1T_003\")"
   ]
  },
  {
   "cell_type": "code",
   "execution_count": 6,
   "id": "b7c9453d-41b2-4d05-bc49-ddc78b411679",
   "metadata": {},
   "outputs": [],
   "source": [
    "# Note that we need to cast the result of first() to Image.\n",
    "image_aster = ee.Image(aster\n",
    "\n",
    "#    // Filter to get only images in the specified range.This range can be larger\n",
    "    .filterDate('2019-04-20', '2019-10-31')  # choose April-October 2019\n",
    "\n",
    "#    // Filter to get only images at the location of the point.This can be a polygon too.\n",
    "    .filterBounds(point)\n",
    "\n",
    "#    // Sort the collection by a metadata property.\n",
    "    .sort('CLOUD_COVER_LAND')\n",
    "\n",
    "#    // Get the first image out of this collection.\n",
    "    .first()) #so the less cloudy image"
   ]
  },
  {
   "cell_type": "code",
   "execution_count": 7,
   "id": "2c0c5725-dafa-44a0-bbf6-f5825e55b9a6",
   "metadata": {},
   "outputs": [
    {
     "name": "stdout",
     "output_type": "stream",
     "text": [
      "['B01', 'B02', 'B3N', 'B04', 'B05', 'B06', 'B07', 'B08', 'B09', 'B10', 'B11', 'B12', 'B13', 'B14']\n"
     ]
    }
   ],
   "source": [
    "band_names = image_aster.bandNames()\n",
    "print(band_names.getInfo())"
   ]
  },
  {
   "cell_type": "code",
   "execution_count": 8,
   "id": "b5ce6e10-c670-4d6f-b28c-6ed523d6b9d7",
   "metadata": {},
   "outputs": [
    {
     "data": {
      "application/vnd.jupyter.widget-view+json": {
       "model_id": "d2fdcf5083bd4e91a43a1b44f12dabcf",
       "version_major": 2,
       "version_minor": 0
      },
      "text/plain": [
       "Map(center=[40.115009, -111.654709], controls=(WidgetControl(options=['position', 'transparent_bg'], widget=HB…"
      ]
     },
     "metadata": {},
     "output_type": "display_data"
    }
   ],
   "source": [
    "# // Center the map and display the image.\n",
    "Map.setCenter(longitude, latitude, 10); # Spanish Fork\n",
    "Map.addLayer(image_aster, {'bands': ['B3N', 'B02', 'B01'],'min': 0, 'max':255}, name='ASTER_false')\n",
    "Map.addLayer(image_aster, {'bands': ['B02', 'B3N', 'B01'],'min': 0, 'max':255}, name='ASTER_true')\n",
    "Map"
   ]
  },
  {
   "cell_type": "markdown",
   "id": "7a72182e-d4a0-4528-ac69-1ba02362ccd8",
   "metadata": {
    "jp-MarkdownHeadingCollapsed": true,
    "tags": []
   },
   "source": [
    "### - Sentinel 2"
   ]
  },
  {
   "cell_type": "code",
   "execution_count": 9,
   "id": "d648aaf8-707d-4c29-9c14-9ca7bb302b3f",
   "metadata": {},
   "outputs": [],
   "source": [
    "sentinel2 = ee.ImageCollection('COPERNICUS/S2')"
   ]
  },
  {
   "cell_type": "code",
   "execution_count": 10,
   "id": "4a2cd73d-796d-4432-ac1d-c1ff73fe8094",
   "metadata": {
    "tags": []
   },
   "outputs": [],
   "source": [
    "# Note that we need to cast the result of first() to Image.\n",
    "image_sentinel2 = ee.Image(sentinel2\n",
    "\n",
    "#    // Filter to get only images in the specified range.This range can be larger\n",
    "    .filterDate('2020-04-01', '2020-10-31')  # choose April-October 2020\n",
    "\n",
    "#    // Filter to get only images at the location of the point.This can be a polygon too.\n",
    "    .filterBounds(point)\n",
    "\n",
    "#    // Sort the collection by a metadata property.\n",
    "    .sort('CLOUD_COVER_LAND')\n",
    "\n",
    "#    // Get the first image out of this collection.\n",
    "    .first()) #so the less cloudy image"
   ]
  },
  {
   "cell_type": "code",
   "execution_count": 11,
   "id": "9d149c14-c0ed-4b18-b375-ba70d9d2875f",
   "metadata": {},
   "outputs": [
    {
     "name": "stdout",
     "output_type": "stream",
     "text": [
      "['B1', 'B2', 'B3', 'B4', 'B5', 'B6', 'B7', 'B8', 'B8A', 'B9', 'B10', 'B11', 'B12', 'QA10', 'QA20', 'QA60']\n"
     ]
    }
   ],
   "source": [
    "band_names = image_sentinel2.bandNames()\n",
    "print(band_names.getInfo())"
   ]
  },
  {
   "cell_type": "code",
   "execution_count": 12,
   "id": "10f3099d-89c7-4461-88fc-10c27a896eaa",
   "metadata": {
    "tags": []
   },
   "outputs": [],
   "source": [
    "image_sentinel2 = image_sentinel2.multiply(0.0001)"
   ]
  },
  {
   "cell_type": "code",
   "execution_count": 13,
   "id": "4b5d6785-500d-47cc-b8e7-8cd9c1d3e227",
   "metadata": {
    "tags": []
   },
   "outputs": [
    {
     "data": {
      "application/vnd.jupyter.widget-view+json": {
       "model_id": "d2fdcf5083bd4e91a43a1b44f12dabcf",
       "version_major": 2,
       "version_minor": 0
      },
      "text/plain": [
       "Map(center=[40.115009, -111.654709], controls=(WidgetControl(options=['position', 'transparent_bg'], widget=HB…"
      ]
     },
     "metadata": {},
     "output_type": "display_data"
    }
   ],
   "source": [
    "# // Center the map and display the image.\n",
    "Map.setCenter(longitude, latitude, 10); # Spanish Fork\n",
    "Map.addLayer(image_sentinel2, {'bands': ['B8', 'B4', 'B3'],'min': 0, 'max': 0.5}, name='SENTINEL2_false')\n",
    "Map.addLayer(image_sentinel2, {'bands': ['B4', 'B3', 'B2'],'min': 0, 'max': 0.5}, name='SENTINEL2_true')\n",
    "Map"
   ]
  },
  {
   "cell_type": "markdown",
   "id": "a1c783f6-d4c8-4623-8dc4-058a4a2f3d7e",
   "metadata": {
    "jp-MarkdownHeadingCollapsed": true,
    "tags": []
   },
   "source": [
    "### - Sentinel 3"
   ]
  },
  {
   "cell_type": "code",
   "execution_count": 14,
   "id": "bf81ce45-baff-49e6-8fe1-bcc8363e9766",
   "metadata": {},
   "outputs": [],
   "source": [
    "sentinel3 = ee.ImageCollection(\"COPERNICUS/S3/OLCI\")"
   ]
  },
  {
   "cell_type": "code",
   "execution_count": 15,
   "id": "57e32488-32c5-4293-bb1d-3cf99b892ba9",
   "metadata": {},
   "outputs": [],
   "source": [
    "image_sent3 = sentinel3.filterDate('2018-04-01', '2018-04-04').filterBounds(point).first()\n",
    "\n",
    "sent3_true = image_sent3.select(['Oa08_radiance', 'Oa06_radiance', 'Oa04_radiance']).multiply(ee.Image([0.00876539, 0.0123538, 0.0115198]))\n",
    "sent3_false = image_sent3.select(['Oa17_radiance', 'Oa08_radiance', 'Oa06_radiance']).multiply(ee.Image([0.00749684, 0.00876539, 0.0123538]))"
   ]
  },
  {
   "cell_type": "code",
   "execution_count": 16,
   "id": "40e7e309-1d2b-46da-b0bc-c53795df8718",
   "metadata": {},
   "outputs": [
    {
     "data": {
      "application/vnd.jupyter.widget-view+json": {
       "model_id": "d2fdcf5083bd4e91a43a1b44f12dabcf",
       "version_major": 2,
       "version_minor": 0
      },
      "text/plain": [
       "Map(center=[40.115009, -111.654709], controls=(WidgetControl(options=['position', 'transparent_bg'], widget=HB…"
      ]
     },
     "metadata": {},
     "output_type": "display_data"
    }
   ],
   "source": [
    "Map.addLayer(sent3_true, {'bands':['Oa04_radiance', 'Oa06_radiance', 'Oa08_radiance'],'min': 0, 'max':2}, name='SENTINEL3_true')\n",
    "Map.addLayer(sent3_false, {'bands':['Oa06_radiance', 'Oa08_radiance', 'Oa17_radiance'],'min': 0, 'max':2}, name='SENTINEL3_false')\n",
    "Map"
   ]
  },
  {
   "cell_type": "markdown",
   "id": "084de42c-ec37-4b29-b2b5-abd012012796",
   "metadata": {
    "jp-MarkdownHeadingCollapsed": true,
    "tags": []
   },
   "source": [
    "### - PROBA-V"
   ]
  },
  {
   "cell_type": "code",
   "execution_count": 17,
   "id": "d2f9f690-9292-44c5-8461-53bc533f6162",
   "metadata": {},
   "outputs": [],
   "source": [
    "proba = ee.ImageCollection(\"VITO/PROBAV/C1/S1_TOC_100M\")"
   ]
  },
  {
   "cell_type": "code",
   "execution_count": 18,
   "id": "23f093eb-30ab-456d-822d-9f629b7eba0f",
   "metadata": {},
   "outputs": [],
   "source": [
    "# Note that we need to cast the result of first() to Image.\n",
    "image_proba = ee.Image(proba\n",
    "\n",
    "    # Filter to get only images in the specified range. This range can be larger.\n",
    "    .filterDate('2019-04-01', '2019-10-31')  # choose April-October 2019\n",
    "\n",
    "    # Filter to get only images at the location of the point. This can be a polygon too.\n",
    "    .filterBounds(point)\n",
    "\n",
    "    # Sort the collection by a metadata property.\n",
    "    .sort('CLOUD_COVER_LAND')\n",
    "\n",
    "    # Get the first image out of this collection.\n",
    "    .first()) #so the less cloudy image"
   ]
  },
  {
   "cell_type": "code",
   "execution_count": 19,
   "id": "200fe06f-6e2c-4893-80ac-b1467c2e6503",
   "metadata": {},
   "outputs": [
    {
     "name": "stdout",
     "output_type": "stream",
     "text": [
      "['RED', 'NIR', 'BLUE', 'SWIR', 'NDVI', 'SZA', 'SAA', 'SWIRVAA', 'SWIRVZA', 'VNIRVAA', 'VNIRVZA', 'SM', 'TIME']\n"
     ]
    }
   ],
   "source": [
    "band_names = image_proba.bandNames()\n",
    "print(band_names.getInfo())"
   ]
  },
  {
   "cell_type": "code",
   "execution_count": 20,
   "id": "b13d924d-8cd1-4c91-b226-dce8504c747b",
   "metadata": {},
   "outputs": [
    {
     "data": {
      "application/vnd.jupyter.widget-view+json": {
       "model_id": "d2fdcf5083bd4e91a43a1b44f12dabcf",
       "version_major": 2,
       "version_minor": 0
      },
      "text/plain": [
       "Map(center=[40.115009, -111.654709], controls=(WidgetControl(options=['position', 'transparent_bg'], widget=HB…"
      ]
     },
     "metadata": {},
     "output_type": "display_data"
    }
   ],
   "source": [
    "# // Center the map and display the image.\n",
    "Map.setCenter(longitude, latitude, 10); # Spanish Fork\n",
    "Map.addLayer(image_proba, {'bands': ['NIR', 'RED', 'BLUE'],'min': 0, 'max':2000}, name='PROBA_false')\n",
    "Map.addLayer(image_proba, {'bands': ['RED', 'NIR', 'BLUE'],'min': 0, 'max':2000}, name='PROBA_true')\n",
    "Map"
   ]
  },
  {
   "cell_type": "markdown",
   "id": "efe5a7f0-f1ed-4703-a421-bb7d51750373",
   "metadata": {
    "tags": []
   },
   "source": [
    "### - VIIRS"
   ]
  },
  {
   "cell_type": "code",
   "execution_count": 21,
   "id": "f3df3e5e-2041-4167-b705-094d7bdbab48",
   "metadata": {},
   "outputs": [],
   "source": [
    "viirs = ee.ImageCollection(\"NOAA/VIIRS/001/VNP09GA\")"
   ]
  },
  {
   "cell_type": "code",
   "execution_count": 22,
   "id": "15f79f91-e4e0-4d7a-a116-44f5ea22c533",
   "metadata": {},
   "outputs": [],
   "source": [
    "# Note that we need to cast the result of first() to Image.\n",
    "image_viirs = ee.Image(viirs\n",
    "\n",
    "#    // Filter to get only images in the specified range.This range can be larger\n",
    "    .filterDate('2019-04-01', '2019-10-31')  # choose April-October 2019\n",
    "\n",
    "#    // Filter to get only images at the location of the point.This can be a polygon too.\n",
    "    .filterBounds(point)\n",
    "\n",
    "#    // Sort the collection by a metadata property.\n",
    "    .sort('CLOUD_COVER_LAND')\n",
    "\n",
    "#    // Get the first image out of this collection.\n",
    "    .first()) #so the less cloudy image"
   ]
  },
  {
   "cell_type": "code",
   "execution_count": 23,
   "id": "2987fe88-7dde-4852-a183-d3316ecab853",
   "metadata": {},
   "outputs": [
    {
     "name": "stdout",
     "output_type": "stream",
     "text": [
      "['I1', 'I2', 'I3', 'M1', 'M2', 'M3', 'M4', 'M5', 'M7', 'M8', 'M10', 'M11', 'SensorAzimuth', 'SensorZenith', 'SolarAzimuth', 'SolarZenith', 'iobs_res', 'num_observations_1km', 'num_observations_500m', 'obscov_1km', 'obscov_500m', 'orbit_pnt', 'QF1', 'QF2', 'QF3', 'QF4', 'QF5', 'QF6', 'QF7']\n"
     ]
    }
   ],
   "source": [
    "band_names = image_viirs.bandNames()\n",
    "print(band_names.getInfo())"
   ]
  },
  {
   "cell_type": "code",
   "execution_count": 24,
   "id": "c4a4d0e7-3e6c-4a12-a159-8aef6ef98452",
   "metadata": {},
   "outputs": [],
   "source": [
    "image_viirs = image_viirs.multiply(0.0001)"
   ]
  },
  {
   "cell_type": "code",
   "execution_count": 25,
   "id": "bf694c2b-c830-42c8-980b-0e81ca1d6308",
   "metadata": {},
   "outputs": [
    {
     "data": {
      "application/vnd.jupyter.widget-view+json": {
       "model_id": "d2fdcf5083bd4e91a43a1b44f12dabcf",
       "version_major": 2,
       "version_minor": 0
      },
      "text/plain": [
       "Map(center=[40.115009, -111.654709], controls=(WidgetControl(options=['position', 'transparent_bg'], widget=HB…"
      ]
     },
     "metadata": {},
     "output_type": "display_data"
    }
   ],
   "source": [
    "# // Center the map and display the image.\n",
    "Map.setCenter(longitude, latitude, 10); # Spanish Fork\n",
    "Map.addLayer(image_viirs, {'bands': ['M7', 'M5', 'M4'],'min': 0, 'max':1}, name='VIIRS_false')\n",
    "Map.addLayer(image_viirs, {'bands': ['M5', 'M4', 'M3'],'min': 0, 'max':1}, name='VIIRS_true')\n",
    "Map"
   ]
  },
  {
   "cell_type": "markdown",
   "id": "8dc023fe-ef02-468e-a811-7d2d3378cf88",
   "metadata": {},
   "source": [
    "### - HYPERSPECTRAL SENSOR EO-1"
   ]
  },
  {
   "cell_type": "code",
   "execution_count": 26,
   "id": "8715c487-5153-4c38-b351-074772e80ddb",
   "metadata": {},
   "outputs": [],
   "source": [
    "hyper = ee.ImageCollection(\"EO1/HYPERION\")"
   ]
  },
  {
   "cell_type": "code",
   "execution_count": 27,
   "id": "52b11a7c-f92e-4b23-abad-6f9ade496a40",
   "metadata": {},
   "outputs": [],
   "source": [
    "# Note that we need to cast the result of first() to Image.\n",
    "image_hyper = ee.Image(hyper\n",
    "\n",
    "#    // Filter to get only images in the specified range.This range can be larger\n",
    "    .filterDate('2002-04-01', '2016-10-31')  # choose April-October 2019\n",
    "\n",
    "#    // Filter to get only images at the location of the point.This can be a polygon too.\n",
    "    .filterBounds(point)\n",
    "\n",
    "#    // Sort the collection by a metadata property.\n",
    "    .sort('CLOUD_COVER_LAND')\n",
    "\n",
    "#    // Get the first image out of this collection.\n",
    "    .first()) #so the less cloudy image"
   ]
  },
  {
   "cell_type": "code",
   "execution_count": 28,
   "id": "ac792528-af2b-413c-8f6a-486b7df9fbcf",
   "metadata": {},
   "outputs": [
    {
     "ename": "EEException",
     "evalue": "Image.visualize: Parameter 'image' is required.",
     "output_type": "error",
     "traceback": [
      "\u001b[0;31m---------------------------------------------------------------------------\u001b[0m",
      "\u001b[0;31mHttpError\u001b[0m                                 Traceback (most recent call last)",
      "\u001b[0;32m/opt/conda/lib/python3.9/site-packages/ee/data.py\u001b[0m in \u001b[0;36m_execute_cloud_call\u001b[0;34m(call, num_retries)\u001b[0m\n\u001b[1;32m    327\u001b[0m   \u001b[0;32mtry\u001b[0m\u001b[0;34m:\u001b[0m\u001b[0;34m\u001b[0m\u001b[0;34m\u001b[0m\u001b[0m\n\u001b[0;32m--> 328\u001b[0;31m     \u001b[0;32mreturn\u001b[0m \u001b[0mcall\u001b[0m\u001b[0;34m.\u001b[0m\u001b[0mexecute\u001b[0m\u001b[0;34m(\u001b[0m\u001b[0mnum_retries\u001b[0m\u001b[0;34m=\u001b[0m\u001b[0mnum_retries\u001b[0m\u001b[0;34m)\u001b[0m\u001b[0;34m\u001b[0m\u001b[0;34m\u001b[0m\u001b[0m\n\u001b[0m\u001b[1;32m    329\u001b[0m   \u001b[0;32mexcept\u001b[0m \u001b[0mgoogleapiclient\u001b[0m\u001b[0;34m.\u001b[0m\u001b[0merrors\u001b[0m\u001b[0;34m.\u001b[0m\u001b[0mHttpError\u001b[0m \u001b[0;32mas\u001b[0m \u001b[0me\u001b[0m\u001b[0;34m:\u001b[0m\u001b[0;34m\u001b[0m\u001b[0;34m\u001b[0m\u001b[0m\n",
      "\u001b[0;32m/opt/conda/lib/python3.9/site-packages/googleapiclient/_helpers.py\u001b[0m in \u001b[0;36mpositional_wrapper\u001b[0;34m(*args, **kwargs)\u001b[0m\n\u001b[1;32m    133\u001b[0m                     \u001b[0mlogger\u001b[0m\u001b[0;34m.\u001b[0m\u001b[0mwarning\u001b[0m\u001b[0;34m(\u001b[0m\u001b[0mmessage\u001b[0m\u001b[0;34m)\u001b[0m\u001b[0;34m\u001b[0m\u001b[0;34m\u001b[0m\u001b[0m\n\u001b[0;32m--> 134\u001b[0;31m             \u001b[0;32mreturn\u001b[0m \u001b[0mwrapped\u001b[0m\u001b[0;34m(\u001b[0m\u001b[0;34m*\u001b[0m\u001b[0margs\u001b[0m\u001b[0;34m,\u001b[0m \u001b[0;34m**\u001b[0m\u001b[0mkwargs\u001b[0m\u001b[0;34m)\u001b[0m\u001b[0;34m\u001b[0m\u001b[0;34m\u001b[0m\u001b[0m\n\u001b[0m\u001b[1;32m    135\u001b[0m \u001b[0;34m\u001b[0m\u001b[0m\n",
      "\u001b[0;32m/opt/conda/lib/python3.9/site-packages/googleapiclient/http.py\u001b[0m in \u001b[0;36mexecute\u001b[0;34m(self, http, num_retries)\u001b[0m\n\u001b[1;32m    914\u001b[0m         \u001b[0;32mif\u001b[0m \u001b[0mresp\u001b[0m\u001b[0;34m.\u001b[0m\u001b[0mstatus\u001b[0m \u001b[0;34m>=\u001b[0m \u001b[0;36m300\u001b[0m\u001b[0;34m:\u001b[0m\u001b[0;34m\u001b[0m\u001b[0;34m\u001b[0m\u001b[0m\n\u001b[0;32m--> 915\u001b[0;31m             \u001b[0;32mraise\u001b[0m \u001b[0mHttpError\u001b[0m\u001b[0;34m(\u001b[0m\u001b[0mresp\u001b[0m\u001b[0;34m,\u001b[0m \u001b[0mcontent\u001b[0m\u001b[0;34m,\u001b[0m \u001b[0muri\u001b[0m\u001b[0;34m=\u001b[0m\u001b[0mself\u001b[0m\u001b[0;34m.\u001b[0m\u001b[0muri\u001b[0m\u001b[0;34m)\u001b[0m\u001b[0;34m\u001b[0m\u001b[0;34m\u001b[0m\u001b[0m\n\u001b[0m\u001b[1;32m    916\u001b[0m         \u001b[0;32mreturn\u001b[0m \u001b[0mself\u001b[0m\u001b[0;34m.\u001b[0m\u001b[0mpostproc\u001b[0m\u001b[0;34m(\u001b[0m\u001b[0mresp\u001b[0m\u001b[0;34m,\u001b[0m \u001b[0mcontent\u001b[0m\u001b[0;34m)\u001b[0m\u001b[0;34m\u001b[0m\u001b[0;34m\u001b[0m\u001b[0m\n",
      "\u001b[0;31mHttpError\u001b[0m: <HttpError 400 when requesting https://earthengine.googleapis.com/v1alpha/projects/earthengine-legacy/maps?fields=name&alt=json returned \"Image.visualize: Parameter 'image' is required.\". Details: \"Image.visualize: Parameter 'image' is required.\">",
      "\nDuring handling of the above exception, another exception occurred:\n",
      "\u001b[0;31mEEException\u001b[0m                               Traceback (most recent call last)",
      "\u001b[0;32m/tmp/ipykernel_289/3507763627.py\u001b[0m in \u001b[0;36m<module>\u001b[0;34m\u001b[0m\n\u001b[1;32m      1\u001b[0m \u001b[0;31m# // Center the map and display the image.\u001b[0m\u001b[0;34m\u001b[0m\u001b[0;34m\u001b[0m\u001b[0m\n\u001b[1;32m      2\u001b[0m \u001b[0mMap\u001b[0m\u001b[0;34m.\u001b[0m\u001b[0msetCenter\u001b[0m\u001b[0;34m(\u001b[0m\u001b[0mlongitude\u001b[0m\u001b[0;34m,\u001b[0m \u001b[0mlatitude\u001b[0m\u001b[0;34m,\u001b[0m \u001b[0;36m10\u001b[0m\u001b[0;34m)\u001b[0m\u001b[0;34m;\u001b[0m \u001b[0;31m# Spanish Fork\u001b[0m\u001b[0;34m\u001b[0m\u001b[0;34m\u001b[0m\u001b[0m\n\u001b[0;32m----> 3\u001b[0;31m \u001b[0mMap\u001b[0m\u001b[0;34m.\u001b[0m\u001b[0maddLayer\u001b[0m\u001b[0;34m(\u001b[0m\u001b[0mimage_hyper\u001b[0m\u001b[0;34m,\u001b[0m \u001b[0;34m{\u001b[0m\u001b[0;34m'bands'\u001b[0m\u001b[0;34m:\u001b[0m \u001b[0;34m[\u001b[0m\u001b[0;34m'B051'\u001b[0m\u001b[0;34m,\u001b[0m \u001b[0;34m'B029'\u001b[0m\u001b[0;34m,\u001b[0m \u001b[0;34m'B020'\u001b[0m\u001b[0;34m]\u001b[0m\u001b[0;34m,\u001b[0m\u001b[0;34m'min'\u001b[0m\u001b[0;34m:\u001b[0m \u001b[0;36m0\u001b[0m\u001b[0;34m,\u001b[0m \u001b[0;34m'max'\u001b[0m\u001b[0;34m:\u001b[0m\u001b[0;36m1\u001b[0m\u001b[0;34m}\u001b[0m\u001b[0;34m,\u001b[0m \u001b[0mname\u001b[0m\u001b[0;34m=\u001b[0m\u001b[0;34m'HYPER_false'\u001b[0m\u001b[0;34m)\u001b[0m\u001b[0;34m\u001b[0m\u001b[0;34m\u001b[0m\u001b[0m\n\u001b[0m\u001b[1;32m      4\u001b[0m \u001b[0mMap\u001b[0m\u001b[0;34m.\u001b[0m\u001b[0maddLayer\u001b[0m\u001b[0;34m(\u001b[0m\u001b[0mimage_hyper\u001b[0m\u001b[0;34m,\u001b[0m \u001b[0;34m{\u001b[0m\u001b[0;34m'bands'\u001b[0m\u001b[0;34m:\u001b[0m \u001b[0;34m[\u001b[0m\u001b[0;34m'B029'\u001b[0m\u001b[0;34m,\u001b[0m \u001b[0;34m'B020'\u001b[0m\u001b[0;34m,\u001b[0m \u001b[0;34m'B010'\u001b[0m\u001b[0;34m]\u001b[0m\u001b[0;34m,\u001b[0m\u001b[0;34m'min'\u001b[0m\u001b[0;34m:\u001b[0m \u001b[0;36m0\u001b[0m\u001b[0;34m,\u001b[0m \u001b[0;34m'max'\u001b[0m\u001b[0;34m:\u001b[0m\u001b[0;36m1\u001b[0m\u001b[0;34m}\u001b[0m\u001b[0;34m,\u001b[0m \u001b[0mname\u001b[0m\u001b[0;34m=\u001b[0m\u001b[0;34m'HYPER_true'\u001b[0m\u001b[0;34m)\u001b[0m\u001b[0;34m\u001b[0m\u001b[0;34m\u001b[0m\u001b[0m\n\u001b[1;32m      5\u001b[0m \u001b[0mMap\u001b[0m\u001b[0;34m\u001b[0m\u001b[0;34m\u001b[0m\u001b[0m\n",
      "\u001b[0;32m/opt/conda/lib/python3.9/site-packages/geemap/geemap.py\u001b[0m in \u001b[0;36madd_ee_layer\u001b[0;34m(self, ee_object, vis_params, name, shown, opacity)\u001b[0m\n\u001b[1;32m   1486\u001b[0m                 )\n\u001b[1;32m   1487\u001b[0m \u001b[0;34m\u001b[0m\u001b[0m\n\u001b[0;32m-> 1488\u001b[0;31m         \u001b[0mmap_id_dict\u001b[0m \u001b[0;34m=\u001b[0m \u001b[0mee\u001b[0m\u001b[0;34m.\u001b[0m\u001b[0mImage\u001b[0m\u001b[0;34m(\u001b[0m\u001b[0mimage\u001b[0m\u001b[0;34m)\u001b[0m\u001b[0;34m.\u001b[0m\u001b[0mgetMapId\u001b[0m\u001b[0;34m(\u001b[0m\u001b[0mvis_params\u001b[0m\u001b[0;34m)\u001b[0m\u001b[0;34m\u001b[0m\u001b[0;34m\u001b[0m\u001b[0m\n\u001b[0m\u001b[1;32m   1489\u001b[0m         \u001b[0murl\u001b[0m \u001b[0;34m=\u001b[0m \u001b[0mmap_id_dict\u001b[0m\u001b[0;34m[\u001b[0m\u001b[0;34m\"tile_fetcher\"\u001b[0m\u001b[0;34m]\u001b[0m\u001b[0;34m.\u001b[0m\u001b[0murl_format\u001b[0m\u001b[0;34m\u001b[0m\u001b[0;34m\u001b[0m\u001b[0m\n\u001b[1;32m   1490\u001b[0m         tile_layer = ipyleaflet.TileLayer(\n",
      "\u001b[0;32m/opt/conda/lib/python3.9/site-packages/ee/image.py\u001b[0m in \u001b[0;36mgetMapId\u001b[0;34m(self, vis_params)\u001b[0m\n\u001b[1;32m    128\u001b[0m     \u001b[0mvis_image\u001b[0m\u001b[0;34m,\u001b[0m \u001b[0mrequest\u001b[0m \u001b[0;34m=\u001b[0m \u001b[0mself\u001b[0m\u001b[0;34m.\u001b[0m\u001b[0m_apply_visualization\u001b[0m\u001b[0;34m(\u001b[0m\u001b[0mvis_params\u001b[0m\u001b[0;34m)\u001b[0m\u001b[0;34m\u001b[0m\u001b[0;34m\u001b[0m\u001b[0m\n\u001b[1;32m    129\u001b[0m     \u001b[0mrequest\u001b[0m\u001b[0;34m[\u001b[0m\u001b[0;34m'image'\u001b[0m\u001b[0;34m]\u001b[0m \u001b[0;34m=\u001b[0m \u001b[0mvis_image\u001b[0m\u001b[0;34m\u001b[0m\u001b[0;34m\u001b[0m\u001b[0m\n\u001b[0;32m--> 130\u001b[0;31m     \u001b[0mresponse\u001b[0m \u001b[0;34m=\u001b[0m \u001b[0mdata\u001b[0m\u001b[0;34m.\u001b[0m\u001b[0mgetMapId\u001b[0m\u001b[0;34m(\u001b[0m\u001b[0mrequest\u001b[0m\u001b[0;34m)\u001b[0m\u001b[0;34m\u001b[0m\u001b[0;34m\u001b[0m\u001b[0m\n\u001b[0m\u001b[1;32m    131\u001b[0m     \u001b[0mresponse\u001b[0m\u001b[0;34m[\u001b[0m\u001b[0;34m'image'\u001b[0m\u001b[0;34m]\u001b[0m \u001b[0;34m=\u001b[0m \u001b[0mself\u001b[0m\u001b[0;34m\u001b[0m\u001b[0;34m\u001b[0m\u001b[0m\n\u001b[1;32m    132\u001b[0m     \u001b[0;32mreturn\u001b[0m \u001b[0mresponse\u001b[0m\u001b[0;34m\u001b[0m\u001b[0;34m\u001b[0m\u001b[0m\n",
      "\u001b[0;32m/opt/conda/lib/python3.9/site-packages/ee/data.py\u001b[0m in \u001b[0;36mgetMapId\u001b[0;34m(params)\u001b[0m\n\u001b[1;32m    565\u001b[0m   \u001b[0;31m# Make it return only the name field, as otherwise it echoes the entire\u001b[0m\u001b[0;34m\u001b[0m\u001b[0;34m\u001b[0m\u001b[0m\n\u001b[1;32m    566\u001b[0m   \u001b[0;31m# request, which might be large.\u001b[0m\u001b[0;34m\u001b[0m\u001b[0;34m\u001b[0m\u001b[0m\n\u001b[0;32m--> 567\u001b[0;31m   result = _execute_cloud_call(\n\u001b[0m\u001b[1;32m    568\u001b[0m       _get_cloud_api_resource().projects().maps().create(\n\u001b[1;32m    569\u001b[0m           parent=_get_projects_path(), fields='name', body=request))\n",
      "\u001b[0;32m/opt/conda/lib/python3.9/site-packages/ee/data.py\u001b[0m in \u001b[0;36m_execute_cloud_call\u001b[0;34m(call, num_retries)\u001b[0m\n\u001b[1;32m    328\u001b[0m     \u001b[0;32mreturn\u001b[0m \u001b[0mcall\u001b[0m\u001b[0;34m.\u001b[0m\u001b[0mexecute\u001b[0m\u001b[0;34m(\u001b[0m\u001b[0mnum_retries\u001b[0m\u001b[0;34m=\u001b[0m\u001b[0mnum_retries\u001b[0m\u001b[0;34m)\u001b[0m\u001b[0;34m\u001b[0m\u001b[0;34m\u001b[0m\u001b[0m\n\u001b[1;32m    329\u001b[0m   \u001b[0;32mexcept\u001b[0m \u001b[0mgoogleapiclient\u001b[0m\u001b[0;34m.\u001b[0m\u001b[0merrors\u001b[0m\u001b[0;34m.\u001b[0m\u001b[0mHttpError\u001b[0m \u001b[0;32mas\u001b[0m \u001b[0me\u001b[0m\u001b[0;34m:\u001b[0m\u001b[0;34m\u001b[0m\u001b[0;34m\u001b[0m\u001b[0m\n\u001b[0;32m--> 330\u001b[0;31m     \u001b[0;32mraise\u001b[0m \u001b[0m_translate_cloud_exception\u001b[0m\u001b[0;34m(\u001b[0m\u001b[0me\u001b[0m\u001b[0;34m)\u001b[0m\u001b[0;34m\u001b[0m\u001b[0;34m\u001b[0m\u001b[0m\n\u001b[0m\u001b[1;32m    331\u001b[0m \u001b[0;34m\u001b[0m\u001b[0m\n\u001b[1;32m    332\u001b[0m \u001b[0;34m\u001b[0m\u001b[0m\n",
      "\u001b[0;31mEEException\u001b[0m: Image.visualize: Parameter 'image' is required."
     ]
    }
   ],
   "source": [
    "# // Center the map and display the image.\n",
    "Map.setCenter(longitude, latitude, 10); # Spanish Fork\n",
    "Map.addLayer(image_hyper, {'bands': ['B051', 'B029', 'B020'],'min': 0, 'max':1}, name='HYPER_false')\n",
    "Map.addLayer(image_hyper, {'bands': ['B029', 'B020', 'B010'],'min': 0, 'max':1}, name='HYPER_true')\n",
    "Map"
   ]
  },
  {
   "cell_type": "code",
   "execution_count": null,
   "id": "2ad32c19-54cb-4ba0-9095-b0e30127d17d",
   "metadata": {},
   "outputs": [],
   "source": []
  }
 ],
 "metadata": {
  "kernelspec": {
   "display_name": "Python 3 (ipykernel)",
   "language": "python",
   "name": "python3"
  },
  "language_info": {
   "codemirror_mode": {
    "name": "ipython",
    "version": 3
   },
   "file_extension": ".py",
   "mimetype": "text/x-python",
   "name": "python",
   "nbconvert_exporter": "python",
   "pygments_lexer": "ipython3",
   "version": "3.9.7"
  }
 },
 "nbformat": 4,
 "nbformat_minor": 5
}
