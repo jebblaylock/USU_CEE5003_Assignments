{
 "cells": [
  {
   "cell_type": "markdown",
   "id": "75936ebe-7bcc-49f1-889e-34353d323678",
   "metadata": {},
   "source": [
    "For a tutorial on getting an area of interest rather than a point of interest, see recording of our lab on Feb 17th"
   ]
  },
  {
   "cell_type": "code",
   "execution_count": null,
   "id": "5abb4b8f-246c-4eb7-aba8-a484662c66b8",
   "metadata": {},
   "outputs": [],
   "source": []
  }
 ],
 "metadata": {
  "kernelspec": {
   "display_name": "Python 3 (ipykernel)",
   "language": "python",
   "name": "python3"
  },
  "language_info": {
   "codemirror_mode": {
    "name": "ipython",
    "version": 3
   },
   "file_extension": ".py",
   "mimetype": "text/x-python",
   "name": "python",
   "nbconvert_exporter": "python",
   "pygments_lexer": "ipython3",
   "version": "3.9.7"
  }
 },
 "nbformat": 4,
 "nbformat_minor": 5
}
