{
 "cells": [
  {
   "cell_type": "markdown",
   "id": "e3870478-6cb1-4915-a0a1-d42b5e2b1d29",
   "metadata": {},
   "source": [
    "# Practice #1: Learning how to use Jupyter Notebooks in Cuahsi HydroShare\n",
    "## Justin Blaylock, 2023\n",
    "This is an exercise where we learn to manage and run code in this Python environment."
   ]
  },
  {
   "cell_type": "raw",
   "id": "38c7f42b-119b-4a98-8780-8461388368e2",
   "metadata": {},
   "source": [
    "# note: pass the following command on a terminal before running this notebook\n",
    "\n",
    "pip install -U geemap"
   ]
  },
  {
   "cell_type": "markdown",
   "id": "8a78e5f1-d88d-479b-84ed-65c4f909996c",
   "metadata": {},
   "source": [
    "## 1. Calling geemap\n",
    "\n",
    "I am copying code from geemap 108 notebook to avoid the gee token setup."
   ]
  },
  {
   "cell_type": "code",
   "execution_count": 1,
   "id": "b7ff4b9b-061e-4175-9c87-e7d3b451abb4",
   "metadata": {},
   "outputs": [],
   "source": [
    "import ee\n",
    "import geemap\n",
    "import geemap.colormaps as cm"
   ]
  },
  {
   "cell_type": "markdown",
   "id": "a2766692-403c-429d-a4f7-984458266214",
   "metadata": {},
   "source": [
    "## 2. Generate a map"
   ]
  },
  {
   "cell_type": "code",
   "execution_count": 2,
   "id": "c3b1b640-b018-4fea-b1ee-3b2cc1916de9",
   "metadata": {},
   "outputs": [
    {
     "data": {
      "application/vnd.jupyter.widget-view+json": {
       "model_id": "81613c417a08435c9fb95305cff19520",
       "version_major": 2,
       "version_minor": 0
      },
      "text/plain": [
       "Map(center=[40, -100], controls=(WidgetControl(options=['position', 'transparent_bg'], widget=HBox(children=(T…"
      ]
     },
     "metadata": {},
     "output_type": "display_data"
    }
   ],
   "source": [
    "Map = geemap.Map(center=[40, -100], zoom=4)\n",
    "Map"
   ]
  },
  {
   "cell_type": "markdown",
   "id": "6fe3d1c7-47ac-4f9b-87f2-39f2f2ef8b33",
   "metadata": {
    "tags": []
   },
   "source": [
    "## 3. Define a point of interest\n",
    "\n",
    "Find lat/long of POI using the https://www.latlong.net/ website. In this case, coordinates are for Roy, Utah."
   ]
  },
  {
   "cell_type": "code",
   "execution_count": 3,
   "id": "1359525c-9895-49a1-904a-7153178d53d4",
   "metadata": {},
   "outputs": [],
   "source": [
    "latitude = 41.167381\n",
    "longitude= -112.033829"
   ]
  },
  {
   "cell_type": "code",
   "execution_count": 4,
   "id": "61c9eb05-5b14-4702-88f8-b5231c42195f",
   "metadata": {},
   "outputs": [],
   "source": [
    "point = ee.Geometry.Point([longitude, latitude])"
   ]
  },
  {
   "cell_type": "markdown",
   "id": "40ec5059-9105-463e-be38-37b13912f034",
   "metadata": {},
   "source": [
    "## 4. Retrieve satellite imagery: Landsat 8\n",
    "\n",
    "Search for 'Landsat 8 Surface Corrected' here: https://developers.google.com/earth-engine/datasets/catalog/ and get the handle name (e.g. ee.ImageCollection(\"LANDSAT/LC08/C01/T1_SR\"). Name the import 'landsat'."
   ]
  },
  {
   "cell_type": "code",
   "execution_count": 5,
   "id": "3c659f72-4d6d-458f-805c-e71174ac397a",
   "metadata": {},
   "outputs": [],
   "source": [
    "landsat = ee.ImageCollection(\"LANDSAT/LC08/C02/T1_L2\")"
   ]
  },
  {
   "cell_type": "code",
   "execution_count": 6,
   "id": "4c463e54-d463-4d9c-a35c-1bf49192c845",
   "metadata": {},
   "outputs": [
    {
     "name": "stdout",
     "output_type": "stream",
     "text": [
      "Julian date:  192\n",
      "Year:  2013\n"
     ]
    }
   ],
   "source": [
    "# Note that we need to cast the result of first() to Image.\n",
    "image = ee.Image(landsat\n",
    "\n",
    "#    // Filter to get only images in the specified range.This range can be larger\n",
    "    .filterDate('2013-07-01', '2013-07-31')  # choose a period of no snow\n",
    "\n",
    "#    // Filter to get only images at the location of the point.This can be a polygon too.\n",
    "    .filterBounds(point)\n",
    "\n",
    "#    // Sort the collection by a metadata property.\n",
    "    .sort('CLOUD_COVER_LAND')\n",
    "\n",
    "#    // Get the first image out of this collection.\n",
    "    .first()) #so the less cloudy image\n",
    "\n",
    "# Get the timestamp and convert it to a date.\n",
    "julian_date = ee.Date(image.get('system:time_start')).format('DD').getInfo();\n",
    "year = ee.Date(image.get('system:time_start')).format('Y').getInfo();\n",
    "\n",
    "print('Julian date: ', julian_date); # ee.Date\n",
    "print('Year: ', year)\n",
    "\n",
    "# What properties of this satellite are available?\n",
    "# properties = image.propertyNames();\n",
    "# print(properties.getInfo())"
   ]
  },
  {
   "cell_type": "code",
   "execution_count": 7,
   "id": "c9fe15d2-0953-4d51-903f-0609d6557aa2",
   "metadata": {},
   "outputs": [
    {
     "name": "stdout",
     "output_type": "stream",
     "text": [
      "['SR_B1', 'SR_B2', 'SR_B3', 'SR_B4', 'SR_B5', 'SR_B6', 'SR_B7', 'SR_QA_AEROSOL', 'ST_B10', 'ST_ATRAN', 'ST_CDIST', 'ST_DRAD', 'ST_EMIS', 'ST_EMSD', 'ST_QA', 'ST_TRAD', 'ST_URAD', 'QA_PIXEL', 'QA_RADSAT']\n"
     ]
    }
   ],
   "source": [
    "# Print the image band names to the console. Check in GEE website what wavebands these results indicate.\n",
    "band_names = image.bandNames()\n",
    "print(band_names.getInfo())"
   ]
  },
  {
   "cell_type": "code",
   "execution_count": 8,
   "id": "ddb0842e-800b-456e-b1b4-8c0cd4202933",
   "metadata": {},
   "outputs": [],
   "source": [
    "# select only reflectance bands\n",
    "image = image.select(['SR_B1', 'SR_B2', 'SR_B3', 'SR_B4', 'SR_B5', 'SR_B6', 'SR_B7'])\n",
    "# The image requires the scale = 0.0001 as shown above.\n",
    "image = image.multiply(2.75e-05).add(-0.2)"
   ]
  },
  {
   "cell_type": "code",
   "execution_count": 9,
   "id": "d22355aa-e7db-4f3a-8a61-b254ea3873b5",
   "metadata": {},
   "outputs": [
    {
     "data": {
      "application/vnd.jupyter.widget-view+json": {
       "model_id": "a749b22753cd409b80998e9e529122f1",
       "version_major": 2,
       "version_minor": 0
      },
      "text/plain": [
       "Map(center=[41.167381, -112.033829], controls=(WidgetControl(options=['position', 'transparent_bg'], widget=HB…"
      ]
     },
     "metadata": {},
     "output_type": "display_data"
    }
   ],
   "source": [
    "#// Add the image to the map, using the visualization parameters.\n",
    "Map = geemap.Map(center=(latitude, longitude), zoom=8)\n",
    "Map"
   ]
  },
  {
   "cell_type": "code",
   "execution_count": 10,
   "id": "e4ad552f-b0c4-4bb7-bb76-576889492500",
   "metadata": {},
   "outputs": [
    {
     "data": {
      "application/vnd.jupyter.widget-view+json": {
       "model_id": "a749b22753cd409b80998e9e529122f1",
       "version_major": 2,
       "version_minor": 0
      },
      "text/plain": [
       "Map(center=[41.167381, -112.033829], controls=(WidgetControl(options=['position', 'transparent_bg'], widget=HB…"
      ]
     },
     "metadata": {},
     "output_type": "display_data"
    }
   ],
   "source": [
    "# // Center the map and display the image.\n",
    "#Map.setCenter(-122.1899, 37.5010, 10); # San Francisco Bay\n",
    "Map.addLayer(image, {'bands': ['SR_B4', 'SR_B3', 'SR_B2']}, name='Landsat')\n",
    "Map\n"
   ]
  },
  {
   "cell_type": "code",
   "execution_count": null,
   "id": "63c676f4-ef98-4d49-8466-2b345e96d054",
   "metadata": {},
   "outputs": [],
   "source": []
  }
 ],
 "metadata": {
  "kernelspec": {
   "display_name": "Python 3 (ipykernel)",
   "language": "python",
   "name": "python3"
  },
  "language_info": {
   "codemirror_mode": {
    "name": "ipython",
    "version": 3
   },
   "file_extension": ".py",
   "mimetype": "text/x-python",
   "name": "python",
   "nbconvert_exporter": "python",
   "pygments_lexer": "ipython3",
   "version": "3.9.7"
  }
 },
 "nbformat": 4,
 "nbformat_minor": 5
}
