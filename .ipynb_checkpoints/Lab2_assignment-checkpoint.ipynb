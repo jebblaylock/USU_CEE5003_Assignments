{
 "cells": [
  {
   "cell_type": "markdown",
   "id": "b46f2c6e-c585-499b-b1d9-7eebd49c586a",
   "metadata": {},
   "source": [
    "# Lab #2 Assignment: Satellite Information\n",
    "## Justin Blaylock, 2023\n",
    "Adding imagery from different satellites in both natural and false color"
   ]
  },
  {
   "cell_type": "raw",
   "id": "51a48fac-387a-438b-a185-074d14e781ac",
   "metadata": {},
   "source": [
    "# note: pass the following command on a terminal before running this notebook\n",
    "\n",
    "pip install -U geemap"
   ]
  },
  {
   "cell_type": "markdown",
   "id": "c2a8d676-aa90-42e6-bad8-20ded36a029f",
   "metadata": {},
   "source": [
    "## 1. Calling geemap\n",
    "\n",
    "I am copying code from geemap 108 notebook to avoid the gee token setup."
   ]
  },
  {
   "cell_type": "code",
   "execution_count": 1,
   "id": "285c37ad-998d-4ed3-897c-5be160f738fd",
   "metadata": {},
   "outputs": [],
   "source": [
    "import ee\n",
    "import geemap\n",
    "import geemap.colormaps as cm"
   ]
  },
  {
   "cell_type": "markdown",
   "id": "4337c37c-69f8-4843-bbca-228b7b3d8982",
   "metadata": {},
   "source": [
    "## 2. Generate a map"
   ]
  },
  {
   "cell_type": "code",
   "execution_count": 2,
   "id": "56f86ce0-4adb-4080-9b6e-3232f02d6940",
   "metadata": {},
   "outputs": [
    {
     "data": {
      "application/vnd.jupyter.widget-view+json": {
       "model_id": "146a052a1f6f4c758e84f296dcaabb14",
       "version_major": 2,
       "version_minor": 0
      },
      "text/plain": [
       "Map(center=[40, -100], controls=(WidgetControl(options=['position', 'transparent_bg'], widget=HBox(children=(T…"
      ]
     },
     "metadata": {},
     "output_type": "display_data"
    }
   ],
   "source": [
    "Map = geemap.Map(center=[40, -100], zoom=4)\n",
    "Map"
   ]
  },
  {
   "cell_type": "markdown",
   "id": "9ffbe528-9280-48f1-a3e9-100267587725",
   "metadata": {},
   "source": [
    "## 3. Define a point of interest\n",
    "\n",
    "Find lat/long of POI using the https://www.latlong.net/ website. In this case, coordinates are for Spanish Fork, Utah."
   ]
  },
  {
   "cell_type": "code",
   "execution_count": 3,
   "id": "abca9c76-f654-46ca-9c41-fef8e2cad102",
   "metadata": {},
   "outputs": [],
   "source": [
    "latitude = 40.115009\n",
    "longitude= -111.654709"
   ]
  },
  {
   "cell_type": "code",
   "execution_count": 4,
   "id": "786d2fe3-f64c-47aa-84bd-761954d40a9a",
   "metadata": {},
   "outputs": [],
   "source": [
    "point = ee.Geometry.Point([longitude, latitude])"
   ]
  },
  {
   "cell_type": "markdown",
   "id": "c3242012-20a2-43ce-b1f6-1ba4e33e3bc5",
   "metadata": {},
   "source": [
    "## 4. Retrieve satellite imagery:"
   ]
  },
  {
   "cell_type": "markdown",
   "id": "0f5465c7-a8fc-420b-862d-7bc3a65fd2be",
   "metadata": {},
   "source": [
    "### - ASTER"
   ]
  },
  {
   "cell_type": "code",
   "execution_count": 5,
   "id": "6cafca07-ea81-4679-aff4-c95b6572b02e",
   "metadata": {},
   "outputs": [],
   "source": [
    "aster = ee.ImageCollection(\"ASTER/AST_L1T_003\")"
   ]
  },
  {
   "cell_type": "code",
   "execution_count": 6,
   "id": "b7c9453d-41b2-4d05-bc49-ddc78b411679",
   "metadata": {},
   "outputs": [],
   "source": [
    "# Note that we need to cast the result of first() to Image.\n",
    "image_aster = ee.Image(aster\n",
    "\n",
    "#    // Filter to get only images in the specified range.This range can be larger\n",
    "    .filterDate('2019-04-20', '2019-10-31')  # choose April-October 2019\n",
    "\n",
    "#    // Filter to get only images at the location of the point.This can be a polygon too.\n",
    "    .filterBounds(point)\n",
    "\n",
    "#    // Sort the collection by a metadata property.\n",
    "    .sort('CLOUD_COVER_LAND')\n",
    "\n",
    "#    // Get the first image out of this collection.\n",
    "    .first()) #so the less cloudy image"
   ]
  },
  {
   "cell_type": "code",
   "execution_count": 7,
   "id": "2c0c5725-dafa-44a0-bbf6-f5825e55b9a6",
   "metadata": {},
   "outputs": [
    {
     "name": "stdout",
     "output_type": "stream",
     "text": [
      "['B01', 'B02', 'B3N', 'B04', 'B05', 'B06', 'B07', 'B08', 'B09', 'B10', 'B11', 'B12', 'B13', 'B14']\n"
     ]
    }
   ],
   "source": [
    "band_names = image_aster.bandNames()\n",
    "print(band_names.getInfo())"
   ]
  },
  {
   "cell_type": "code",
   "execution_count": 8,
   "id": "b5ce6e10-c670-4d6f-b28c-6ed523d6b9d7",
   "metadata": {},
   "outputs": [
    {
     "data": {
      "application/vnd.jupyter.widget-view+json": {
       "model_id": "146a052a1f6f4c758e84f296dcaabb14",
       "version_major": 2,
       "version_minor": 0
      },
      "text/plain": [
       "Map(center=[40.115009, -111.654709], controls=(WidgetControl(options=['position', 'transparent_bg'], widget=HB…"
      ]
     },
     "metadata": {},
     "output_type": "display_data"
    }
   ],
   "source": [
    "# // Center the map and display the image.\n",
    "Map.setCenter(longitude, latitude, 10); # Spanish Fork\n",
    "Map.addLayer(image_aster, {'bands': ['B3N', 'B02', 'B01'],'min': 0, 'max':255}, name='ASTER_false')\n",
    "Map.addLayer(image_aster, {'bands': ['B02', 'B3N', 'B01'],'min': 0, 'max':255}, name='ASTER_true')\n",
    "Map"
   ]
  },
  {
   "cell_type": "markdown",
   "id": "7a72182e-d4a0-4528-ac69-1ba02362ccd8",
   "metadata": {},
   "source": [
    "### - Sentinel 2"
   ]
  },
  {
   "cell_type": "code",
   "execution_count": 9,
   "id": "d648aaf8-707d-4c29-9c14-9ca7bb302b3f",
   "metadata": {},
   "outputs": [],
   "source": [
    "sentinel2 = ee.ImageCollection('COPERNICUS/S2')"
   ]
  },
  {
   "cell_type": "code",
   "execution_count": 10,
   "id": "4a2cd73d-796d-4432-ac1d-c1ff73fe8094",
   "metadata": {},
   "outputs": [],
   "source": [
    "# Note that we need to cast the result of first() to Image.\n",
    "image_sentinel2 = ee.Image(sentinel2\n",
    "\n",
    "#    // Filter to get only images in the specified range.This range can be larger\n",
    "    .filterDate('2020-04-01', '2020-10-31')  # choose April-October 2020\n",
    "\n",
    "#    // Filter to get only images at the location of the point.This can be a polygon too.\n",
    "    .filterBounds(point)\n",
    "\n",
    "#    // Sort the collection by a metadata property.\n",
    "    .sort('CLOUD_COVER_LAND')\n",
    "\n",
    "#    // Get the first image out of this collection.\n",
    "    .first()) #so the less cloudy image"
   ]
  },
  {
   "cell_type": "code",
   "execution_count": 11,
   "id": "9d149c14-c0ed-4b18-b375-ba70d9d2875f",
   "metadata": {},
   "outputs": [
    {
     "name": "stdout",
     "output_type": "stream",
     "text": [
      "['B1', 'B2', 'B3', 'B4', 'B5', 'B6', 'B7', 'B8', 'B8A', 'B9', 'B10', 'B11', 'B12', 'QA10', 'QA20', 'QA60']\n"
     ]
    }
   ],
   "source": [
    "band_names = image_sentinel2.bandNames()\n",
    "print(band_names.getInfo())"
   ]
  },
  {
   "cell_type": "code",
   "execution_count": 12,
   "id": "10f3099d-89c7-4461-88fc-10c27a896eaa",
   "metadata": {},
   "outputs": [],
   "source": [
    "image_sentinel2 = image_sentinel2.multiply(0.0001)"
   ]
  },
  {
   "cell_type": "code",
   "execution_count": 13,
   "id": "4b5d6785-500d-47cc-b8e7-8cd9c1d3e227",
   "metadata": {},
   "outputs": [
    {
     "data": {
      "application/vnd.jupyter.widget-view+json": {
       "model_id": "146a052a1f6f4c758e84f296dcaabb14",
       "version_major": 2,
       "version_minor": 0
      },
      "text/plain": [
       "Map(center=[40.115009, -111.654709], controls=(WidgetControl(options=['position', 'transparent_bg'], widget=HB…"
      ]
     },
     "metadata": {},
     "output_type": "display_data"
    }
   ],
   "source": [
    "# // Center the map and display the image.\n",
    "Map.setCenter(longitude, latitude, 10); # Spanish Fork\n",
    "Map.addLayer(image_sentinel2, {'bands': ['B8', 'B4', 'B3'],'min': 0, 'max': 0.5}, name='SENTINEL2_false')\n",
    "Map.addLayer(image_sentinel2, {'bands': ['B4', 'B3', 'B2'],'min': 0, 'max': 0.5}, name='SENTINEL2_true')\n",
    "Map"
   ]
  },
  {
   "cell_type": "markdown",
   "id": "a1c783f6-d4c8-4623-8dc4-058a4a2f3d7e",
   "metadata": {},
   "source": [
    "### - Sentinel 3"
   ]
  },
  {
   "cell_type": "code",
   "execution_count": 14,
   "id": "bf81ce45-baff-49e6-8fe1-bcc8363e9766",
   "metadata": {},
   "outputs": [],
   "source": [
    "sentinel3 = ee.ImageCollection(\"COPERNICUS/S3/OLCI\")"
   ]
  },
  {
   "cell_type": "code",
   "execution_count": 15,
   "id": "57e32488-32c5-4293-bb1d-3cf99b892ba9",
   "metadata": {},
   "outputs": [],
   "source": [
    "image_sent3 = sentinel3.filterDate('2018-04-01', '2018-04-04').first()\n",
    "\n",
    "sent3_true = image_sent3.select(['Oa08_radiance', 'Oa06_radiance', 'Oa04_radiance']).multiply(ee.Image([0.00876539, 0.0123538, 0.0115198]))\n",
    "sent3_false = image_sent3.select(['Oa17_radiance', 'Oa08_radiance', 'Oa06_radiance']).multiply(ee.Image([0.00749684, 0.00876539, 0.0123538]))"
   ]
  },
  {
   "cell_type": "code",
   "execution_count": 16,
   "id": "40e7e309-1d2b-46da-b0bc-c53795df8718",
   "metadata": {},
   "outputs": [
    {
     "data": {
      "application/vnd.jupyter.widget-view+json": {
       "model_id": "146a052a1f6f4c758e84f296dcaabb14",
       "version_major": 2,
       "version_minor": 0
      },
      "text/plain": [
       "Map(center=[40.115009, -111.654709], controls=(WidgetControl(options=['position', 'transparent_bg'], widget=HB…"
      ]
     },
     "metadata": {},
     "output_type": "display_data"
    }
   ],
   "source": [
    "Map.addLayer(sent3_true, {'bands':['Oa04_radiance', 'Oa06_radiance', 'Oa08_radiance'],'min': 0, 'max':0.6}, name='SENTINEL3_true')\n",
    "Map.addLayer(sent3_false, {'bands':['Oa06_radiance', 'Oa08_radiance', 'Oa17_radiance'],'min': 0, 'max':0.6}, name='SENTINEL3_false')\n",
    "Map"
   ]
  },
  {
   "cell_type": "markdown",
   "id": "084de42c-ec37-4b29-b2b5-abd012012796",
   "metadata": {},
   "source": [
    "### - PROBA-V"
   ]
  },
  {
   "cell_type": "code",
   "execution_count": 17,
   "id": "d2f9f690-9292-44c5-8461-53bc533f6162",
   "metadata": {},
   "outputs": [],
   "source": [
    "proba = ee.ImageCollection(\"VITO/PROBAV/C1/S1_TOC_100M\")"
   ]
  },
  {
   "cell_type": "code",
   "execution_count": null,
   "id": "23f093eb-30ab-456d-822d-9f629b7eba0f",
   "metadata": {},
   "outputs": [],
   "source": []
  }
 ],
 "metadata": {
  "kernelspec": {
   "display_name": "Python 3 (ipykernel)",
   "language": "python",
   "name": "python3"
  },
  "language_info": {
   "codemirror_mode": {
    "name": "ipython",
    "version": 3
   },
   "file_extension": ".py",
   "mimetype": "text/x-python",
   "name": "python",
   "nbconvert_exporter": "python",
   "pygments_lexer": "ipython3",
   "version": "3.9.7"
  }
 },
 "nbformat": 4,
 "nbformat_minor": 5
}
